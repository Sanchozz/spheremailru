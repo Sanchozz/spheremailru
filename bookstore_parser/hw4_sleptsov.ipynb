{
 "cells": [
  {
   "cell_type": "code",
   "execution_count": 265,
   "metadata": {},
   "outputs": [],
   "source": [
    "import numpy as np\n",
    "import requests\n",
    "import json\n",
    "import re\n",
    "from bs4 import BeautifulSoup\n",
    "from html.parser import HTMLParser\n",
    "from selenium import webdriver\n",
    "import html\n",
    "from time import sleep\n",
    "import urllib\n",
    "import pandas as pd\n",
    "from multiprocessing.dummy import Pool as ThreadPool\n",
    "from time import time"
   ]
  },
  {
   "cell_type": "markdown",
   "metadata": {},
   "source": [
    "Функция для получения id книг автора"
   ]
  },
  {
   "cell_type": "code",
   "execution_count": 266,
   "metadata": {},
   "outputs": [],
   "source": [
    "def get_id_list(author_url, driver):\n",
    "    driver.get(author_url)\n",
    "    items = driver.find_elements_by_class_name(\"count-result__value\")\n",
    "    cards_count = int(items[0].text)\n",
    "\n",
    "    while len(driver.find_elements_by_class_name(\"product-card\")) != cards_count:\n",
    "        driver.execute_script(\"window.scrollTo(0, document.body.scrollHeight);\")\n",
    "        sleep(1)\n",
    "        elem = driver.find_element_by_class_name('js__show-more-cards')\n",
    "        if elem:\n",
    "            try:\n",
    "                elem.click()\n",
    "            except:\n",
    "                pass\n",
    "\n",
    "    cards = driver.find_elements_by_class_name(\"product-card\")\n",
    "    ids = [int(card.get_attribute(\"data-product\")) for card in cards]\n",
    "\n",
    "    return ids"
   ]
  },
  {
   "cell_type": "markdown",
   "metadata": {},
   "source": [
    "Функции для получения информационной таблички и разделения рейтинга и голосов соответственно"
   ]
  },
  {
   "cell_type": "code",
   "execution_count": 267,
   "metadata": {},
   "outputs": [],
   "source": [
    "def get_table_dict(table):\n",
    "    titles = [item.text.strip() for item in table.findAll('div', class_=\"product-prop__title\")]\n",
    "    values = [item.text.strip() for item in table.findAll('div', class_=\"product-prop__value\")]\n",
    "    return dict(zip(titles, values))\n",
    "\n",
    "def get_rating(soup):\n",
    "    rating = soup.find('div', class_='rating').text\n",
    "    values = re.findall(r'\\d+', rating)\n",
    "    return values[0], values[1]"
   ]
  },
  {
   "cell_type": "markdown",
   "metadata": {},
   "source": [
    "Функция парсинга странички с книгой по ее id"
   ]
  },
  {
   "cell_type": "code",
   "execution_count": 268,
   "metadata": {},
   "outputs": [],
   "source": [
    "def extract_book_info(book_id):\n",
    "    book_url = \"https://www.chitai-gorod.ru/catalog/book/{}\".format(book_id)\n",
    "    book_html = requests.get(book_url).text.strip()\n",
    "    soup = BeautifulSoup(book_html, 'html.parser')\n",
    "    \n",
    "    info = {}\n",
    "    info['ID карточки'] = book_id\n",
    "    info['Название'] = soup.find('h1', class_='product__title js-analytic-product-title').text.strip()\n",
    "    info['Автор'] = soup.find('a', class_='link product__author').text.strip()\n",
    "    info['Рейтинг'], info['Голоса'] = get_rating(soup)\n",
    "    \n",
    "    price = soup.find('div', class_=\"product__price\")\n",
    "    if price:\n",
    "        info['Цена'] = price.text.strip()[0:-2]  \n",
    "    \n",
    "    props_dict = get_table_dict(soup.find('div', class_=\"product__props\"))\n",
    "    info.update(props_dict)\n",
    "    \n",
    "    image = soup.select_one('.product__image')\n",
    "    if image:\n",
    "        info['Обложка'] = image.find('img')['src']\n",
    "        \n",
    "    return info\n",
    "    "
   ]
  },
  {
   "cell_type": "code",
   "execution_count": 269,
   "metadata": {},
   "outputs": [
    {
     "name": "stdout",
     "output_type": "stream",
     "text": [
      "Фрай М.: 153\n",
      "Хантер Э.: 97\n",
      "Емец Д.: 192\n"
     ]
    }
   ],
   "source": [
    "url_template = \"https://www.chitai-gorod.ru/search/result.php?q={}&type=author\"\n",
    "authors = ['Фрай М.', 'Хантер Э.', 'Емец Д.']\n",
    "books_ids = []\n",
    "with webdriver.Safari() as driver:  \n",
    "    for author in authors:\n",
    "        url = url_template.format(urllib.parse.quote(author, encoding='windows-1251'))\n",
    "        author_cards = get_id_list(url, driver)\n",
    "        books_ids += author_cards\n",
    "        print(\"{}: {}\".format(author, len(author_cards)))"
   ]
  },
  {
   "cell_type": "code",
   "execution_count": 271,
   "metadata": {},
   "outputs": [
    {
     "name": "stdout",
     "output_type": "stream",
     "text": [
      "CPU times: user 52.5 s, sys: 2.79 s, total: 55.3 s\n",
      "Wall time: 1min 17s\n"
     ]
    }
   ],
   "source": [
    "%%time\n",
    "\n",
    "t = ThreadPool(8)\n",
    "result = t.map(extract_book_info, books_ids)\n",
    "t.close()\n",
    "t.join()\n",
    "\n",
    "df = pd.DataFrame(result)\n",
    "df.sort_values(by='ID карточки', inplace=True)\n",
    "\n",
    "cols = df.columns.values\n",
    "cols = np.delete(cols, np.argwhere(cols == 'Обложка'))\n",
    "cols = np.append(cols, 'Обложка')\n",
    "df = df[cols]\n",
    "\n",
    "with open('hw_4.csv', mode='w', encoding='utf-8') as f_csv:\n",
    "    df.to_csv(f_csv, index=False)"
   ]
  },
  {
   "cell_type": "code",
   "execution_count": null,
   "metadata": {},
   "outputs": [],
   "source": []
  }
 ],
 "metadata": {
  "kernelspec": {
   "display_name": "Python 3",
   "language": "python",
   "name": "python3"
  },
  "language_info": {
   "codemirror_mode": {
    "name": "ipython",
    "version": 3
   },
   "file_extension": ".py",
   "mimetype": "text/x-python",
   "name": "python",
   "nbconvert_exporter": "python",
   "pygments_lexer": "ipython3",
   "version": "3.6.5"
  }
 },
 "nbformat": 4,
 "nbformat_minor": 2
}
