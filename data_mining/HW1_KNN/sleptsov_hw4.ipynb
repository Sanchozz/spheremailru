{
 "cells": [
  {
   "cell_type": "markdown",
   "metadata": {},
   "source": [
    "# Алгоритмы интеллектуальной обработки больших объемов данных\n",
    "## Домашнее задание №4 - Метод k-средних, предобработка признаков\n"
   ]
  },
  {
   "cell_type": "markdown",
   "metadata": {},
   "source": [
    "###### <hr\\>\n",
    "**Общая информация**\n",
    "\n",
    "**Срок сдачи:** 28 ноября 2018, 06:00 <br\\>\n",
    "**Штраф за опоздание:** -2 балла после 06:00 28 ноября, -4 балла после 06:00 5 декабря, -6 баллов после 06:00 12 декабря, -8 баллов после 19 декабря\n",
    "\n",
    "При отправлении ДЗ указывайте фамилию в названии файла\n",
    "Присылать ДЗ необходимо в виде ссылки на свой github репозиторий в slack @alkhamush\n",
    "\n",
    "Необходимо в slack создать таск в приватный чат:\n",
    "/todo Фамилия Имя ссылка на гитхаб @alkhamush\n",
    "Пример:\n",
    "/todo Ксения Стройкова https://github.com/stroykova/spheremailru/stroykova_hw1.ipynb @alkhamush\n",
    "Дополнительно нужно просто скинуть ссылку в slack в личный чат\n",
    "\n",
    "Используйте данный Ipython Notebook при оформлении домашнего задания."
   ]
  },
  {
   "cell_type": "markdown",
   "metadata": {},
   "source": [
    "# Имплементация K-means\n",
    "\n",
    "Пользуясь наработками выше, имплементируйте метод k-means.  \n",
    "При инициализации необходимо задавать количество кластеров, функцию расстояния между кластерами (для оригинального k-means - евклидово расстояние) и начальное состояние генератора случайных чисел.\n",
    "\n",
    "После обучения, среди атрибутов класса `Kmeans` должны появится\n",
    "* Метки кластеров для объектов\n",
    "* Координаты центройдов кластеров\n",
    "\n",
    "k-means - это алгоритм **кластеризации**, а не классификации, а посему метод `.predict()` в нем фактически не нужен, но он может возвращать метки ближайшего кластера для объектов."
   ]
  },
  {
   "cell_type": "markdown",
   "metadata": {},
   "source": [
    "###### Задание 1 (2 баллов)\n",
    "Имплементируйте метод k-means. Задание считается выполненным, если Ваша реализация работает быстрее реализации из sklearn.\n",
    "\n",
    "Теория для выполнения задания 2 и 3 остаётся на самостоятельное изучение. Теории немного и она совсем простая.\n",
    "\n",
    "###### Задание 2 (2 балла)\n",
    "Имплементируйте класс MiniBatchKMeans, который является классом наследником Kmeans.\n",
    "\n",
    "###### Задание 3 (2 балла)\n",
    "Превратите k-means в k-means++. Для этого нужно реализовать метод в классе Kmeans, который будет инициализировать более \"хорошие\" значения центроидов. Чтобы использовался метод k-means++, в параметр init необходимо передать строковое значение 'k-means' (по умолчанию 'random').\n",
    "\n",
    "###### Задание 4 (2 балла)\n",
    "В пункте \"Проверка корректности метода\" нужно нарисовать графики, которые показывают зависимость времени выполнения алгоритма от количества сэмплов. Графики должны быть  нарисованы для различных комбинаций реализаций алгоритма (k-means, k-means++, k-means с MiniBatchKMeans, k-means++ с MiniBatchKMeans). График достаточно построить на 5-10 точках.\n",
    "\n",
    "###### Задание 5 (2 балла)\n",
    "В пункте \"Применение K-means на реальных данных\" нужно сравнить различные реализации k-means (k-means, k-means++, k-means с MiniBatchKMeans, k-means++ с MiniBatchKMeans). После чего написать вывод, в котором должно быть объяснение того, почему один алгоритм оказался лучше остальных или почему не было выявлено лучшего алгоритма.\n",
    "\n",
    "**Штрафные баллы:**\n",
    "\n",
    "1. Невыполнение PEP8 -1 балл\n",
    "2. Отсутствие фамилии в имени скрипта (скрипт должен называться по аналогии со stroykova_hw4.ipynb) -1 балл\n",
    "3. Все строчки должны быть выполнены. Нужно, чтобы output команды можно было увидеть уже в git'е. В противном случае -1 балл\n",
    "4. При оформлении ДЗ нужно пользоваться данным файлом в качестве шаблона. Не нужно удалять и видоизменять написанный код и текст. В противном случае -1 балл\n",
    "<hr\\>"
   ]
  },
  {
   "cell_type": "code",
   "execution_count": 191,
   "metadata": {},
   "outputs": [
    {
     "name": "stdout",
     "output_type": "stream",
     "text": [
      "The pycodestyle_magic extension is already loaded. To reload it, use:\n",
      "  %reload_ext pycodestyle_magic\n"
     ]
    }
   ],
   "source": [
    "import pandas as pd\n",
    "import numpy as np\n",
    "import matplotlib.pyplot as plt\n",
    "from sklearn.metrics import pairwise_distances\n",
    "from sklearn.cluster import KMeans\n",
    "from sklearn import preprocessing\n",
    "\n",
    "%matplotlib inline\n",
    "\n",
    "plt.style.use('ggplot')\n",
    "plt.rcParams['figure.figsize'] = (12,5)\n",
    "\n",
    "%load_ext pycodestyle_magic"
   ]
  },
  {
   "cell_type": "code",
   "execution_count": 294,
   "metadata": {},
   "outputs": [],
   "source": [
    "#%%pycodestyle\n",
    "\n",
    "\n",
    "class MyKmeans:\n",
    "\n",
    "    def __init__(self,\n",
    "                 k=2,\n",
    "                 metric='euclidean',\n",
    "                 max_iter=1000,\n",
    "                 random_state=None,\n",
    "                 init='random'):\n",
    "        \"\"\"\n",
    "        Инициализация метода\n",
    "        :k - количество кластеров\n",
    "        :metric - функция расстояния между объектами\n",
    "        :max_iter - максиальное количество итераций\n",
    "        :random_state - seed для инициализации генератора случайных чисел\n",
    "        \"\"\"\n",
    "\n",
    "        self.k = k\n",
    "        self.random_state = random_state\n",
    "        self.metric = metric\n",
    "        self.max_iter = max_iter\n",
    "        self.init = init\n",
    "        \n",
    "    def init_centrs_k_meanspp(self, X):\n",
    "        self.centroids = np.empty((self.k, X.shape[1]))\n",
    "        self.centroids[0] = X[np.random.choice(X.shape[0])]\n",
    "        \n",
    "        for i in range(1, self.k):\n",
    "            d = pairwise_distances(X, self.centroids[:i, :]).min(axis=1)\n",
    "            d = d / d.sum()\n",
    "            self.centroids[i] = X[np.random.choice(X.shape[0],\n",
    "                                                   replace=False,\n",
    "                                                   p=d)]\n",
    "    \n",
    "    def fit(self, X, y=None):\n",
    "        \"\"\"\n",
    "        Процедура обучения k-means\n",
    "        \"\"\"\n",
    "\n",
    "        # Инициализация генератора случайных чисел\n",
    "        np.random.seed(self.random_state)\n",
    "\n",
    "        # Массив с метками кластеров для каждого объекта из X\n",
    "        self.labels = np.empty(X.shape[0])\n",
    "\n",
    "        # Массив с центройдами кластеров\n",
    "        self.centroids = np.empty((self.k, X.shape[1]))\n",
    "\n",
    "        # Your Code Here\n",
    "\n",
    "        if self.init == 'random':\n",
    "            self.centroids = np.random.rand(self.k, X.shape[1])\n",
    "        elif self.init == 'k-means':\n",
    "            self.init_centrs_k_meanspp(X)\n",
    "        \n",
    "        for i in range(self.max_iter):\n",
    "            d = pairwise_distances(X, self.centroids, self.metric)\n",
    "            self.labels = np.argmin(d, axis=1)\n",
    "            for cl_ind in range(self.k):\n",
    "                X_cl = X[self.labels == cl_ind]\n",
    "                if X_cl.shape[0] > 0:\n",
    "                    self.centroids[cl_ind] = np.mean(X_cl, axis=0)\n",
    "                    \n",
    "        return self\n",
    "\n",
    "    def predict(self, X, y=None):\n",
    "        \"\"\"\n",
    "        Процедура предсказания кластера\n",
    "\n",
    "        Возвращает метку ближайшего кластера для каждого объекта\n",
    "        \"\"\"\n",
    "        d = pairwise_distances(X, self.centroids, self.metric)\n",
    "        return np.argmin(d, axis=1)\n",
    "\n",
    "\n",
    "class MiniBatchMyKmeans(MyKmeans):\n",
    "    \n",
    "    def __init__(self,\n",
    "                 k=2,\n",
    "                 metric='euclidean',\n",
    "                 max_iter=1000,\n",
    "                 random_state=None,\n",
    "                 init='random',\n",
    "                 batch_size=10):\n",
    "        super().__init__(k, metric, max_iter, random_state, init)\n",
    "        self.batch_size = batch_size\n",
    "        \n",
    "    def fit(self, X, y=None):\n",
    "         # Инициализация генератора случайных чисел\n",
    "        np.random.seed(self.random_state)\n",
    "\n",
    "        # Массив с метками кластеров для каждого объекта из X\n",
    "        self.labels = np.empty(X.shape[0])\n",
    "\n",
    "        # Массив с центройдами кластеров\n",
    "        self.centroids = np.empty((self.k, X.shape[1]))\n",
    "        \n",
    "        if self.init == 'random':\n",
    "            self.centroids = np.random.rand(self.k, X.shape[1])\n",
    "        elif self.init == 'k-means':\n",
    "            self.init_centrs_k_meanspp(X)\n",
    "            \n",
    "        inds = np.arange(X.shape[0])\n",
    "        np.random.shuffle(inds)\n",
    "        cut = 0\n",
    "        for i in range(self.max_iter):\n",
    "            batch_inds = inds[cut: min(X.shape[0], cut + self.batch_size)]\n",
    "            X_batch = X[batch_inds]\n",
    "\n",
    "            dist = pairwise_distances(X_batch, self.centroids,\n",
    "                                      metric=self.metric)\n",
    "            self.labels = np.argmin(dist, axis=1)\n",
    "\n",
    "            for cl_ind in range(self.k):\n",
    "                X_cl = X_batch[self.labels == cl_ind]\n",
    "                if X_cl.shape[0] > 0:\n",
    "                    self.centroids[cl_ind] = (self.centroids[cl_ind] * i\n",
    "                                             + np.mean(X_cl, axis=0)) / (i + 1)\n",
    "            \n",
    "            cut += self.batch_size\n",
    "            if cut >= X.shape[0]:\n",
    "                cut = 0\n",
    "                np.random.shuffle(inds)\n",
    "        return self\n",
    "        \n",
    "        "
   ]
  },
  {
   "cell_type": "markdown",
   "metadata": {},
   "source": [
    "### Проверка корректности метода\n",
    "\n",
    "Перед тем как применять алгоритм на реальных данных, нужно испытать его на простых \"игрушечных\" данных.\n",
    "\n",
    "Если алгоритм реализован правильно, то метод должен идеально разбивать на 3 кластера данные ниже. Проверьте это.\n",
    "\n",
    "ВНИМАНИЕ! Проверка должна быть осуществлена на всех реализациях, иначе реализация не будет зачтена!"
   ]
  },
  {
   "cell_type": "code",
   "execution_count": 295,
   "metadata": {},
   "outputs": [],
   "source": [
    "from sklearn.datasets import make_blobs"
   ]
  },
  {
   "cell_type": "code",
   "execution_count": 296,
   "metadata": {},
   "outputs": [],
   "source": [
    "X, y = make_blobs(n_samples=100, n_features=2, centers=3, cluster_std=1, \n",
    "           center_box=(-10.0, 10.0), shuffle=False, random_state=1234)"
   ]
  },
  {
   "cell_type": "code",
   "execution_count": 297,
   "metadata": {},
   "outputs": [
    {
     "data": {
      "text/plain": [
       "<matplotlib.collections.PathCollection at 0x1a1f389128>"
      ]
     },
     "execution_count": 297,
     "metadata": {},
     "output_type": "execute_result"
    },
    {
     "data": {
      "image/png": "[encoded data removed]",
      "text/plain": [
       "<Figure size 864x360 with 1 Axes>"
      ]
     },
     "metadata": {},
     "output_type": "display_data"
    }
   ],
   "source": [
    "plt.scatter(X[:,0], X[:, 1], c=y)"
   ]
  },
  {
   "cell_type": "markdown",
   "metadata": {},
   "source": [
    "Проверьте Вашу имплементацию на простых данных (без этого пункта ДЗ не считается выполненным).   \n",
    "КОММЕНТАРИИ НЕ СТИРАТЬ!"
   ]
  },
  {
   "cell_type": "code",
   "execution_count": 299,
   "metadata": {},
   "outputs": [
    {
     "data": {
      "image/png": "[encoded data removed]",
      "text/plain": [
       "<Figure size 864x360 with 1 Axes>"
      ]
     },
     "metadata": {},
     "output_type": "display_data"
    }
   ],
   "source": [
    "## Работоспособность MyKmeans\n",
    "\n",
    "my_clf = MyKmeans(k=3, init='random')\n",
    "my_clf.fit(X)\n",
    "X_ext = np.concatenate((X, my_clf.centroids))\n",
    "y_pred = np.concatenate((my_clf.predict(X), 3 * [3]))\n",
    "plt.scatter(X_ext[:,0], X_ext[:, 1], c=y_pred)\n",
    "plt.show()"
   ]
  },
  {
   "cell_type": "code",
   "execution_count": 300,
   "metadata": {},
   "outputs": [
    {
     "data": {
      "image/png": "[encoded data removed]",
      "text/plain": [
       "<Figure size 864x360 with 1 Axes>"
      ]
     },
     "metadata": {},
     "output_type": "display_data"
    }
   ],
   "source": [
    "## Работоспособность MyKmeans++\n",
    "\n",
    "my_clf = MyKmeans(k=3, init='k-means')\n",
    "my_clf.fit(X)\n",
    "X_ext = np.concatenate((X, my_clf.centroids))\n",
    "y_pred = np.concatenate((my_clf.predict(X), 3 * [3]))\n",
    "plt.scatter(X_ext[:,0], X_ext[:, 1], c=y_pred)\n",
    "plt.show()"
   ]
  },
  {
   "cell_type": "code",
   "execution_count": 301,
   "metadata": {},
   "outputs": [
    {
     "data": {
      "image/png": "[encoded data removed]",
      "text/plain": [
       "<Figure size 864x360 with 1 Axes>"
      ]
     },
     "metadata": {},
     "output_type": "display_data"
    }
   ],
   "source": [
    "## Работоспособность MyKmeans с MiniBatchMyKmeans\n",
    "\n",
    "my_clf = MiniBatchMyKmeans(k=3)\n",
    "my_clf.fit(X)\n",
    "X_ext = np.concatenate((X, my_clf.centroids))\n",
    "y_pred = np.concatenate((my_clf.predict(X), 3 * [3]))\n",
    "plt.scatter(X_ext[:,0], X_ext[:, 1], c=y_pred)\n",
    "plt.show()"
   ]
  },
  {
   "cell_type": "code",
   "execution_count": 302,
   "metadata": {},
   "outputs": [
    {
     "data": {
      "image/png": "[encoded data removed]",
      "text/plain": [
       "<Figure size 864x360 with 1 Axes>"
      ]
     },
     "metadata": {},
     "output_type": "display_data"
    }
   ],
   "source": [
    "## Работоспособность MyKmeans++ с MiniBatchMyKmeans\n",
    "\n",
    "my_clf = MiniBatchMyKmeans(k=3, init='k-means')\n",
    "my_clf.fit(X)\n",
    "X_ext = np.concatenate((X, my_clf.centroids))\n",
    "y_pred = np.concatenate((my_clf.predict(X), 3 * [3]))\n",
    "plt.scatter(X_ext[:,0], X_ext[:, 1], c=y_pred)\n",
    "plt.show()"
   ]
  },
  {
   "cell_type": "markdown",
   "metadata": {},
   "source": [
    "# ВНИМАНИЕ\n",
    "\n",
    "\n",
    "Разница во времени работы алгоритмов с MiniBatch и без него на малых данных в этой работе по каким-то причинам не соответствует действительности. Почему-то MiniBatch отрабатывает дольше именно на моей машине. На чуть более больших и реальных данных ниже все в порядке."
   ]
  },
  {
   "cell_type": "code",
   "execution_count": 303,
   "metadata": {},
   "outputs": [
    {
     "name": "stdout",
     "output_type": "stream",
     "text": [
      "CPU times: user 1.24 s, sys: 9.34 ms, total: 1.25 s\n",
      "Wall time: 1.26 s\n"
     ]
    },
    {
     "data": {
      "text/plain": [
       "KMeans(algorithm='auto', copy_x=True, init='k-means++', max_iter=1000,\n",
       "    n_clusters=3, n_init=10, n_jobs=1, precompute_distances='auto',\n",
       "    random_state=None, tol=0, verbose=0)"
      ]
     },
     "execution_count": 303,
     "metadata": {},
     "output_type": "execute_result"
    }
   ],
   "source": [
    "## Время выполнения алгоритма Kmeans из sklearn\n",
    "\n",
    "clf = KMeans(n_clusters=3, max_iter=1000, tol=0)\n",
    "%time clf.fit(X)"
   ]
  },
  {
   "cell_type": "code",
   "execution_count": 304,
   "metadata": {},
   "outputs": [
    {
     "name": "stdout",
     "output_type": "stream",
     "text": [
      "CPU times: user 125 ms, sys: 4.01 ms, total: 129 ms\n",
      "Wall time: 128 ms\n"
     ]
    },
    {
     "data": {
      "text/plain": [
       "<__main__.MyKmeans at 0x1a189a06a0>"
      ]
     },
     "execution_count": 304,
     "metadata": {},
     "output_type": "execute_result"
    }
   ],
   "source": [
    "## Время выполнения алгоритма MyKmeans\n",
    "clf = MyKmeans(k=3)\n",
    "%time clf.fit(X)"
   ]
  },
  {
   "cell_type": "code",
   "execution_count": 305,
   "metadata": {},
   "outputs": [
    {
     "name": "stdout",
     "output_type": "stream",
     "text": [
      "CPU times: user 127 ms, sys: 4.09 ms, total: 131 ms\n",
      "Wall time: 130 ms\n"
     ]
    },
    {
     "data": {
      "text/plain": [
       "<__main__.MyKmeans at 0x1a1e7ef8d0>"
      ]
     },
     "execution_count": 305,
     "metadata": {},
     "output_type": "execute_result"
    }
   ],
   "source": [
    "## Время выполнения алгоритма MyKmeans++\n",
    "my_clf = MyKmeans(k=3, init='k-means')\n",
    "%time my_clf.fit(X)"
   ]
  },
  {
   "cell_type": "code",
   "execution_count": 306,
   "metadata": {},
   "outputs": [
    {
     "name": "stdout",
     "output_type": "stream",
     "text": [
      "CPU times: user 140 ms, sys: 3.66 ms, total: 143 ms\n",
      "Wall time: 142 ms\n"
     ]
    },
    {
     "data": {
      "text/plain": [
       "<__main__.MiniBatchMyKmeans at 0x1a1e7ef208>"
      ]
     },
     "execution_count": 306,
     "metadata": {},
     "output_type": "execute_result"
    }
   ],
   "source": [
    "## Время выполнения алгоритма MyKmeans с MiniBatchMyKmeans\n",
    "\n",
    "my_clf = MiniBatchMyKmeans(k=3, init='random')\n",
    "%time my_clf.fit(X)"
   ]
  },
  {
   "cell_type": "code",
   "execution_count": 307,
   "metadata": {},
   "outputs": [
    {
     "name": "stdout",
     "output_type": "stream",
     "text": [
      "CPU times: user 139 ms, sys: 4.9 ms, total: 144 ms\n",
      "Wall time: 142 ms\n"
     ]
    },
    {
     "data": {
      "text/plain": [
       "<__main__.MiniBatchMyKmeans at 0x1a1e7ef7f0>"
      ]
     },
     "execution_count": 307,
     "metadata": {},
     "output_type": "execute_result"
    }
   ],
   "source": [
    "## Время выполнения алгоритма  MyKmeans++ с MiniBatchMyKmeans\n",
    "\n",
    "my_clf = MiniBatchMyKmeans(k=3, init='k-means')\n",
    "%time my_clf.fit(X)"
   ]
  },
  {
   "cell_type": "code",
   "execution_count": 308,
   "metadata": {},
   "outputs": [],
   "source": [
    "import time"
   ]
  },
  {
   "cell_type": "code",
   "execution_count": 309,
   "metadata": {},
   "outputs": [
    {
     "data": {
      "image/png": "[encoded data removed]",
      "text/plain": [
       "<Figure size 864x360 with 1 Axes>"
      ]
     },
     "metadata": {},
     "output_type": "display_data"
    }
   ],
   "source": [
    "clfs = [KMeans(n_clusters=3, max_iter=1000, tol=0),\n",
    "        MyKmeans(k=3, init='random'),\n",
    "        MyKmeans(k=3, init='k-means'),\n",
    "        MiniBatchMyKmeans(k=3, init='random'),\n",
    "        MiniBatchMyKmeans(k=3, init='k-means')]\n",
    "\n",
    "clfs_label = ['KMeans',\n",
    "            'MyKmeans',\n",
    "            'MyKmeanspp',\n",
    "            'MiniBatchKMeans',\n",
    "            'MiniBatchKMeanspp']\n",
    "\n",
    "x_nums_sample = range(100, 1001, 100)\n",
    "y_time = [[] for i in range(len(x_nums_sample))]\n",
    "X_datas = []\n",
    "\n",
    "for n_samples in x_nums_sample:\n",
    "    X, _ = make_blobs(n_samples=n_samples, n_features=2, centers=3, cluster_std=1, \n",
    "           center_box=(-10.0, 10.0), shuffle=False, random_state=4321)\n",
    "    \n",
    "    X_datas.append(n_samples)\n",
    "    for i in range(len(clfs)):\n",
    "        t = time.time()\n",
    "        clfs[i].fit(X)\n",
    "        y_time[i].append(time.time() - t)\n",
    "\n",
    "for i in range(len(clfs)):\n",
    "    plt.plot(X_datas, y_time[i], label=clfs_label[i])\n",
    "\n",
    "plt.legend()\n",
    "plt.show()"
   ]
  },
  {
   "cell_type": "markdown",
   "metadata": {},
   "source": [
    "# Применение K-means на реальных данных"
   ]
  },
  {
   "cell_type": "markdown",
   "metadata": {},
   "source": [
    "Загрузите [данные](https://github.com/brenden17/sklearnlab/blob/master/facebook/snsdata.csv) в которых содержится описание интересов профилей учеников старшей школы США.  (без этого пункта задание не считается выполненным).   \n",
    "ВНИМАНИЕ! Проверка должна быть осуществлена на всех реализациях, иначе реализация не будет зачтена!"
   ]
  },
  {
   "cell_type": "code",
   "execution_count": 310,
   "metadata": {},
   "outputs": [
    {
     "data": {
      "text/html": [
       "<div>\n",
       "<style scoped>\n",
       "    .dataframe tbody tr th:only-of-type {\n",
       "        vertical-align: middle;\n",
       "    }\n",
       "\n",
       "    .dataframe tbody tr th {\n",
       "        vertical-align: top;\n",
       "    }\n",
       "\n",
       "    .dataframe thead th {\n",
       "        text-align: right;\n",
       "    }\n",
       "</style>\n",
       "<table border=\"1\" class=\"dataframe\">\n",
       "  <thead>\n",
       "    <tr style=\"text-align: right;\">\n",
       "      <th></th>\n",
       "      <th>gradyear</th>\n",
       "      <th>gender</th>\n",
       "      <th>age</th>\n",
       "      <th>friends</th>\n",
       "      <th>basketball</th>\n",
       "      <th>football</th>\n",
       "      <th>soccer</th>\n",
       "      <th>softball</th>\n",
       "      <th>volleyball</th>\n",
       "      <th>swimming</th>\n",
       "      <th>...</th>\n",
       "      <th>blonde</th>\n",
       "      <th>mall</th>\n",
       "      <th>shopping</th>\n",
       "      <th>clothes</th>\n",
       "      <th>hollister</th>\n",
       "      <th>abercrombie</th>\n",
       "      <th>die</th>\n",
       "      <th>death</th>\n",
       "      <th>drunk</th>\n",
       "      <th>drugs</th>\n",
       "    </tr>\n",
       "  </thead>\n",
       "  <tbody>\n",
       "    <tr>\n",
       "      <th>0</th>\n",
       "      <td>2006</td>\n",
       "      <td>M</td>\n",
       "      <td>18.982</td>\n",
       "      <td>7</td>\n",
       "      <td>0</td>\n",
       "      <td>0</td>\n",
       "      <td>0</td>\n",
       "      <td>0</td>\n",
       "      <td>0</td>\n",
       "      <td>0</td>\n",
       "      <td>...</td>\n",
       "      <td>0</td>\n",
       "      <td>0</td>\n",
       "      <td>0</td>\n",
       "      <td>0</td>\n",
       "      <td>0</td>\n",
       "      <td>0</td>\n",
       "      <td>0</td>\n",
       "      <td>0</td>\n",
       "      <td>0</td>\n",
       "      <td>0</td>\n",
       "    </tr>\n",
       "    <tr>\n",
       "      <th>1</th>\n",
       "      <td>2006</td>\n",
       "      <td>F</td>\n",
       "      <td>18.801</td>\n",
       "      <td>0</td>\n",
       "      <td>0</td>\n",
       "      <td>1</td>\n",
       "      <td>0</td>\n",
       "      <td>0</td>\n",
       "      <td>0</td>\n",
       "      <td>0</td>\n",
       "      <td>...</td>\n",
       "      <td>0</td>\n",
       "      <td>1</td>\n",
       "      <td>0</td>\n",
       "      <td>0</td>\n",
       "      <td>0</td>\n",
       "      <td>0</td>\n",
       "      <td>0</td>\n",
       "      <td>0</td>\n",
       "      <td>0</td>\n",
       "      <td>0</td>\n",
       "    </tr>\n",
       "    <tr>\n",
       "      <th>2</th>\n",
       "      <td>2006</td>\n",
       "      <td>M</td>\n",
       "      <td>18.335</td>\n",
       "      <td>69</td>\n",
       "      <td>0</td>\n",
       "      <td>1</td>\n",
       "      <td>0</td>\n",
       "      <td>0</td>\n",
       "      <td>0</td>\n",
       "      <td>0</td>\n",
       "      <td>...</td>\n",
       "      <td>0</td>\n",
       "      <td>0</td>\n",
       "      <td>0</td>\n",
       "      <td>0</td>\n",
       "      <td>0</td>\n",
       "      <td>0</td>\n",
       "      <td>0</td>\n",
       "      <td>1</td>\n",
       "      <td>0</td>\n",
       "      <td>0</td>\n",
       "    </tr>\n",
       "    <tr>\n",
       "      <th>3</th>\n",
       "      <td>2006</td>\n",
       "      <td>F</td>\n",
       "      <td>18.875</td>\n",
       "      <td>0</td>\n",
       "      <td>0</td>\n",
       "      <td>0</td>\n",
       "      <td>0</td>\n",
       "      <td>0</td>\n",
       "      <td>0</td>\n",
       "      <td>0</td>\n",
       "      <td>...</td>\n",
       "      <td>0</td>\n",
       "      <td>0</td>\n",
       "      <td>0</td>\n",
       "      <td>0</td>\n",
       "      <td>0</td>\n",
       "      <td>0</td>\n",
       "      <td>0</td>\n",
       "      <td>0</td>\n",
       "      <td>0</td>\n",
       "      <td>0</td>\n",
       "    </tr>\n",
       "    <tr>\n",
       "      <th>4</th>\n",
       "      <td>2006</td>\n",
       "      <td>NaN</td>\n",
       "      <td>18.995</td>\n",
       "      <td>10</td>\n",
       "      <td>0</td>\n",
       "      <td>0</td>\n",
       "      <td>0</td>\n",
       "      <td>0</td>\n",
       "      <td>0</td>\n",
       "      <td>0</td>\n",
       "      <td>...</td>\n",
       "      <td>0</td>\n",
       "      <td>0</td>\n",
       "      <td>2</td>\n",
       "      <td>0</td>\n",
       "      <td>0</td>\n",
       "      <td>0</td>\n",
       "      <td>0</td>\n",
       "      <td>0</td>\n",
       "      <td>1</td>\n",
       "      <td>1</td>\n",
       "    </tr>\n",
       "  </tbody>\n",
       "</table>\n",
       "<p>5 rows × 40 columns</p>\n",
       "</div>"
      ],
      "text/plain": [
       "   gradyear gender     age  friends  basketball  football  soccer  softball  \\\n",
       "0      2006      M  18.982        7           0         0       0         0   \n",
       "1      2006      F  18.801        0           0         1       0         0   \n",
       "2      2006      M  18.335       69           0         1       0         0   \n",
       "3      2006      F  18.875        0           0         0       0         0   \n",
       "4      2006    NaN  18.995       10           0         0       0         0   \n",
       "\n",
       "   volleyball  swimming  ...    blonde  mall  shopping  clothes  hollister  \\\n",
       "0           0         0  ...         0     0         0        0          0   \n",
       "1           0         0  ...         0     1         0        0          0   \n",
       "2           0         0  ...         0     0         0        0          0   \n",
       "3           0         0  ...         0     0         0        0          0   \n",
       "4           0         0  ...         0     0         2        0          0   \n",
       "\n",
       "   abercrombie  die  death  drunk  drugs  \n",
       "0            0    0      0      0      0  \n",
       "1            0    0      0      0      0  \n",
       "2            0    0      1      0      0  \n",
       "3            0    0      0      0      0  \n",
       "4            0    0      0      1      1  \n",
       "\n",
       "[5 rows x 40 columns]"
      ]
     },
     "execution_count": 310,
     "metadata": {},
     "output_type": "execute_result"
    }
   ],
   "source": [
    "df_sns = pd.read_csv('snsdata.csv', sep=',')\n",
    "df_sns.head()"
   ]
  },
  {
   "cell_type": "markdown",
   "metadata": {},
   "source": [
    "Данные устроены так: \n",
    "* Год выпуска\n",
    "* Пол\n",
    "* Возраст\n",
    "* Количество друзей\n",
    "* 36 ключевых слов, которые встречаются в профилe facebook (интересы, сообщества, встречи)"
   ]
  },
  {
   "cell_type": "markdown",
   "metadata": {},
   "source": [
    "* Удалите все признаки кроме 36 ключевых слов.\n",
    "* Нормализуйте данные - из каждого столбца вычтите его среднее значение и поделите на стандартное отклонение.\n",
    "* Используйте метод k-means чтобы выделить 9 кластеров\n",
    "* Попробуйте проинтерпретировать каждый кластер проанализировав полученные центройды (Некоторые кластеры могут быть очень большие и очень маленькие - плохо интерпретируются)   \n",
    "КОММЕНТАРИИ НЕ СТИРАТЬ!"
   ]
  },
  {
   "cell_type": "code",
   "execution_count": 311,
   "metadata": {},
   "outputs": [],
   "source": [
    "df = df_sns.drop(['gradyear', 'gender', 'age', 'friends'], axis='columns')"
   ]
  },
  {
   "cell_type": "code",
   "execution_count": 312,
   "metadata": {},
   "outputs": [],
   "source": [
    "keys = df.columns"
   ]
  },
  {
   "cell_type": "code",
   "execution_count": 313,
   "metadata": {},
   "outputs": [
    {
     "data": {
      "text/plain": [
       "array([[-0.33221726, -0.35769737, -0.2428741 , ..., -0.26153016,\n",
       "        -0.22040264, -0.1749076 ],\n",
       "       [-0.33221726,  1.06004883, -0.2428741 , ..., -0.26153016,\n",
       "        -0.22040264, -0.1749076 ],\n",
       "       [-0.33221726,  1.06004883, -0.2428741 , ...,  2.02790809,\n",
       "        -0.22040264, -0.1749076 ],\n",
       "       ...,\n",
       "       [-0.33221726,  1.06004883, -0.2428741 , ..., -0.26153016,\n",
       "        -0.22040264, -0.1749076 ],\n",
       "       [-0.33221726, -0.35769737, -0.2428741 , ..., -0.26153016,\n",
       "        -0.22040264, -0.1749076 ],\n",
       "       [ 2.15319868, -0.35769737, -0.2428741 , ..., -0.26153016,\n",
       "        -0.22040264, -0.1749076 ]])"
      ]
     },
     "execution_count": 313,
     "metadata": {},
     "output_type": "execute_result"
    }
   ],
   "source": [
    "scaler = preprocessing.StandardScaler()\n",
    "scaler.fit_transform(df)"
   ]
  },
  {
   "cell_type": "code",
   "execution_count": 326,
   "metadata": {},
   "outputs": [],
   "source": [
    "def clust_info(clf, N=5):\n",
    "    res = clf.predict(df)\n",
    "    _, counts = np.unique(res, return_counts=True)\n",
    "    for clust in range(clf.centroids.shape[0]):\n",
    "        print('Centroid: {}'.format(clust))\n",
    "        print('Students: {}'.format(counts[clust]))\n",
    "        indices = np.argpartition(-clf.centroids[clust], 5)[:5]\n",
    "        print('Top 5 hobbies: {}\\n'.format(list(keys[indices])))"
   ]
  },
  {
   "cell_type": "code",
   "execution_count": 331,
   "metadata": {},
   "outputs": [
    {
     "name": "stdout",
     "output_type": "stream",
     "text": [
      "CPU times: user 21.7 s, sys: 1.15 s, total: 22.8 s\n",
      "Wall time: 11.5 s\n",
      "Centroid: 0\n",
      "Students: 13428\n",
      "Top 5 hobbies: ['cute', 'shopping', 'god', 'dance', 'football']\n",
      "\n",
      "Centroid: 1\n",
      "Students: 1432\n",
      "Top 5 hobbies: ['football', 'music', 'basketball', 'softball', 'volleyball']\n",
      "\n",
      "Centroid: 2\n",
      "Students: 1855\n",
      "Top 5 hobbies: ['hair', 'music', 'cute', 'sex', 'mall']\n",
      "\n",
      "Centroid: 3\n",
      "Students: 1096\n",
      "Top 5 hobbies: ['dance', 'music', 'shopping', 'hair', 'cute']\n",
      "\n",
      "Centroid: 4\n",
      "Students: 9105\n",
      "Top 5 hobbies: ['band', 'music', 'shopping', 'rock', 'cute']\n",
      "\n",
      "Centroid: 5\n",
      "Students: 100\n",
      "Top 5 hobbies: ['church', 'god', 'jesus', 'music', 'bible']\n",
      "\n",
      "Centroid: 6\n",
      "Students: 2054\n",
      "Top 5 hobbies: ['church', 'jesus', 'shopping', 'music', 'god']\n",
      "\n",
      "Centroid: 7\n",
      "Students: 214\n",
      "Top 5 hobbies: ['sex', 'music', 'hair', 'band', 'blonde']\n",
      "\n",
      "Centroid: 8\n",
      "Students: 716\n",
      "Top 5 hobbies: ['soccer', 'music', 'shopping', 'hair', 'god']\n",
      "\n"
     ]
    }
   ],
   "source": [
    "## MyKMeans\n",
    "\n",
    "my_clf = MyKmeans(k=9, init='random')\n",
    "%time my_clf.fit(df.values)\n",
    "clust_info(my_clf)"
   ]
  },
  {
   "cell_type": "code",
   "execution_count": 332,
   "metadata": {},
   "outputs": [
    {
     "name": "stdout",
     "output_type": "stream",
     "text": [
      "CPU times: user 22.1 s, sys: 1.54 s, total: 23.6 s\n",
      "Wall time: 12 s\n",
      "Centroid: 0\n",
      "Students: 4798\n",
      "Top 5 hobbies: ['music', 'shopping', 'soccer', 'god', 'church']\n",
      "\n",
      "Centroid: 1\n",
      "Students: 1111\n",
      "Top 5 hobbies: ['shopping', 'dance', 'music', 'hair', 'cute']\n",
      "\n",
      "Centroid: 2\n",
      "Students: 1\n",
      "Top 5 hobbies: ['blonde', 'sex', 'hair', 'god', 'death']\n",
      "\n",
      "Centroid: 3\n",
      "Students: 836\n",
      "Top 5 hobbies: ['marching', 'band', 'music', 'god', 'dance']\n",
      "\n",
      "Centroid: 4\n",
      "Students: 552\n",
      "Top 5 hobbies: ['jesus', 'god', 'church', 'music', 'die']\n",
      "\n",
      "Centroid: 5\n",
      "Students: 536\n",
      "Top 5 hobbies: ['volleyball', 'softball', 'music', 'basketball', 'shopping']\n",
      "\n",
      "Centroid: 6\n",
      "Students: 2195\n",
      "Top 5 hobbies: ['cute', 'hair', 'music', 'mall', 'sex']\n",
      "\n",
      "Centroid: 7\n",
      "Students: 19653\n",
      "Top 5 hobbies: ['music', 'god', 'cute', 'shopping', 'dance']\n",
      "\n",
      "Centroid: 8\n",
      "Students: 318\n",
      "Top 5 hobbies: ['rock', 'hair', 'sex', 'music', 'kissed']\n",
      "\n"
     ]
    }
   ],
   "source": [
    "## MyKMeans++\n",
    "\n",
    "my_clf = MyKmeans(k=9, init='k-means')\n",
    "%time my_clf.fit(df.values)\n",
    "clust_info(my_clf)"
   ]
  },
  {
   "cell_type": "code",
   "execution_count": 333,
   "metadata": {},
   "outputs": [
    {
     "name": "stdout",
     "output_type": "stream",
     "text": [
      "CPU times: user 367 ms, sys: 10.7 ms, total: 378 ms\n",
      "Wall time: 224 ms\n",
      "Centroid: 0\n",
      "Students: 796\n",
      "Top 5 hobbies: ['sex', 'mall', 'hair', 'cute', 'kissed']\n",
      "\n",
      "Centroid: 1\n",
      "Students: 1939\n",
      "Top 5 hobbies: ['shopping', 'cute', 'band', 'church', 'music']\n",
      "\n",
      "Centroid: 2\n",
      "Students: 20161\n",
      "Top 5 hobbies: ['god', 'dance', 'music', 'shopping', 'basketball']\n",
      "\n",
      "Centroid: 3\n",
      "Students: 232\n",
      "Top 5 hobbies: ['baseball', 'softball', 'dance', 'music', 'cute']\n",
      "\n",
      "Centroid: 4\n",
      "Students: 572\n",
      "Top 5 hobbies: ['shopping', 'softball', 'jesus', 'music', 'hollister']\n",
      "\n",
      "Centroid: 5\n",
      "Students: 927\n",
      "Top 5 hobbies: ['god', 'die', 'music', 'hair', 'church']\n",
      "\n",
      "Centroid: 6\n",
      "Students: 1041\n",
      "Top 5 hobbies: ['hair', 'music', 'rock', 'sex', 'band']\n",
      "\n",
      "Centroid: 7\n",
      "Students: 3429\n",
      "Top 5 hobbies: ['rock', 'god', 'music', 'dance', 'band']\n",
      "\n",
      "Centroid: 8\n",
      "Students: 903\n",
      "Top 5 hobbies: ['dance', 'cute', 'sexy', 'music', 'hair']\n",
      "\n"
     ]
    }
   ],
   "source": [
    "## MyKMeans с MiniBatchMyKMeans\n",
    "\n",
    "my_clf = MiniBatchMyKmeans(k=9, init='random')\n",
    "%time my_clf.fit(df.values)\n",
    "clust_info(my_clf)"
   ]
  },
  {
   "cell_type": "code",
   "execution_count": 334,
   "metadata": {},
   "outputs": [
    {
     "name": "stdout",
     "output_type": "stream",
     "text": [
      "CPU times: user 451 ms, sys: 12.3 ms, total: 464 ms\n",
      "Wall time: 239 ms\n",
      "Centroid: 0\n",
      "Students: 684\n",
      "Top 5 hobbies: ['hair', 'basketball', 'soccer', 'baseball', 'football']\n",
      "\n",
      "Centroid: 1\n",
      "Students: 555\n",
      "Top 5 hobbies: ['church', 'band', 'hair', 'rock', 'god']\n",
      "\n",
      "Centroid: 2\n",
      "Students: 466\n",
      "Top 5 hobbies: ['sports', 'baseball', 'football', 'god', 'rock']\n",
      "\n",
      "Centroid: 3\n",
      "Students: 3738\n",
      "Top 5 hobbies: ['cute', 'shopping', 'hair', 'music', 'dance']\n",
      "\n",
      "Centroid: 4\n",
      "Students: 945\n",
      "Top 5 hobbies: ['dance', 'music', 'hair', 'god', 'sex']\n",
      "\n",
      "Centroid: 5\n",
      "Students: 13\n",
      "Top 5 hobbies: ['cheerleading', 'football', 'music', 'hollister', 'abercrombie']\n",
      "\n",
      "Centroid: 6\n",
      "Students: 253\n",
      "Top 5 hobbies: ['dress', 'tennis', 'shopping', 'music', 'sports']\n",
      "\n",
      "Centroid: 7\n",
      "Students: 875\n",
      "Top 5 hobbies: ['band', 'music', 'sexy', 'rock', 'soccer']\n",
      "\n",
      "Centroid: 8\n",
      "Students: 22471\n",
      "Top 5 hobbies: ['god', 'music', 'dance', 'shopping', 'hair']\n",
      "\n"
     ]
    }
   ],
   "source": [
    "## MyKMeans++ с MiniBatchMyKMeans\n",
    "\n",
    "my_clf = MiniBatchMyKmeans(k=9, init='k-means')\n",
    "%time my_clf.fit(df.values)\n",
    "clust_info(my_clf)"
   ]
  },
  {
   "cell_type": "markdown",
   "metadata": {},
   "source": [
    "## Вывод\n",
    "\n",
    "Почему-то при запуске на моем ноутбуке на малых данных MiniBatch-реализация отрабатывает медленнее, чем обычная. Однако, на других машинах все в порядке. На больших же данных скорости алгоритмов соответствуют теоретической. При печати информации время так же выведено. Причину этого я выяснить не смог.\n",
    "\n",
    "Если сравнивать алгоритмы по времени работы, то, очевидно, что выигрывает реализация с MiniBatch, что особенно заметно на больших данных. Однако, MiniBatch-реализация проигрывает по точности. \n",
    "\n",
    "На наших реальных данных все четыре алгоритма отработали, в принципе, неплохо, выделяя почти одинаковые группы студентов, например: спортсменов, увлекающихся религией, увлекающихся модой девушек и т.д. Всё же в MiniBatch-реализации группы получаются чуть более размыты по интересам, но их все равно можно правильно интерпретировать. Наиболее точным для данной задачи мне показался MyKmeans.\n",
    "\n",
    "Сложно сравнить и сказать, какой из алгоритмов лучше, так как всё зависит от поставленной задачи. При очень большом количестве данных и ограниченном количестве времени лучше, наверное, будет применить MiniBatch. Если же никакого ограничения нет, то k-means++ даст наилучший результат."
   ]
  },
  {
   "cell_type": "code",
   "execution_count": null,
   "metadata": {},
   "outputs": [],
   "source": []
  }
 ],
 "metadata": {
  "anaconda-cloud": {},
  "kernelspec": {
   "display_name": "Python 3",
   "language": "python",
   "name": "python3"
  },
  "language_info": {
   "codemirror_mode": {
    "name": "ipython",
    "version": 3
   },
   "file_extension": ".py",
   "mimetype": "text/x-python",
   "name": "python",
   "nbconvert_exporter": "python",
   "pygments_lexer": "ipython3",
   "version": "3.6.5"
  },
  "nav_menu": {},
  "toc": {
   "navigate_menu": true,
   "number_sections": false,
   "sideBar": true,
   "threshold": 6,
   "toc_cell": false,
   "toc_section_display": "block",
   "toc_window_display": true
  }
 },
 "nbformat": 4,
 "nbformat_minor": 2
}
