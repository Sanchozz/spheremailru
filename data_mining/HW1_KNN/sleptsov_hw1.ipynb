{
 "cells": [
  {
   "cell_type": "markdown",
   "metadata": {},
   "source": [
    "**Общая информация**\n",
    "\n",
    "**Срок сдачи:** 18 октября 2017, 06:00 <br\\>\n",
    "**Штраф за опоздание:** -2 балла после 06:00 18 октября, -4 балла после 06:00 25 октября, -6 баллов после 06:00 1 ноября\n",
    "\n",
    "При отправлении ДЗ указывайте фамилию в названии файла\n",
    "Присылать ДЗ необходимо в виде ссылки на свой github репозиторий в slack @alkhamush\n",
    "\n",
    "Необходимо в slack создать таск в приватный чат:\n",
    "/todo Фамилия Имя ссылка на гитхаб @alkhamush\n",
    "Пример:\n",
    "/todo Ксения Стройкова https://github.com/stroykova/spheremailru/stroykova_hw1.ipynb @alkhamush\n",
    "Дополнительно нужно просто скинуть ссылку в slack в личный чат\n",
    "\n",
    "Используйте данный Ipython Notebook при оформлении домашнего задания."
   ]
  },
  {
   "cell_type": "markdown",
   "metadata": {},
   "source": [
    "###### Задание 1 (2 баллов)\n",
    "Реализовать KNN в классе MyKNeighborsClassifier (обязательное условие: точность не ниже sklearn реализации)\n",
    "Разберитесь самостоятельно, какая мера расстояния используется в KNeighborsClassifier дефолтно и реализуйте свой алгоритм именно с этой мерой. Самостоятельно разберитесь, как считается score из KNeighborsClassifier и реализуйте аналог в своём классе. Score не должен уступать значению KNN из sklearn\n",
    "\n",
    "###### Задание 2 (2 балла)\n",
    "Добиться скорости работы на fit,  predict и predict_proba сравнимой со sklearn для iris и mnist\n",
    "Для этого используем numpy\n",
    "\n",
    "###### Задание 3 (2 балла)\n",
    "Для iris найдите такой параметр n_neighbors, при котором выдаётся наилучший score. Нарисуйте график зависимости score от n_neighbors\n",
    "\n",
    "###### Задание 4 (3 балла)\n",
    "Добавить algorithm='kd_tree' в реализацию KNN (использовать KDTree из sklearn.neighbors). Значение n_neighbors нужно взять из задания 3. Добиться скорости работы на fit,  predict и predict_proba сравнимой со sklearn для iris и mnist\n",
    "Для этого используем numpy. Score не должен уступать значению KNN из sklearn\n",
    "\n",
    "###### Задание 5 (1 балла)\n",
    "Описать для чего нужны следующие библиотеки/классы/функции (список будет ниже)\n",
    "\n",
    "**Штрафные баллы:**\n",
    "\n",
    "1. Невыполнение PEP8 -1 балл\n",
    "2. Отсутствие фамилии в имени скрипта (скрипт должен называться по аналогии со stroykova_hw1.ipynb) -1 балл\n",
    "3. Все строчки должны быть выполнены. Нужно, чтобы output команды можно было увидеть уже в git'е. В противном случае -1 балл\n",
    "4. При оформлении ДЗ нужно пользоваться данным файлом в качестве шаблона. Не нужно удалять и видоизменять структуру кода и текст. В противном случае -1 балл\n"
   ]
  },
  {
   "cell_type": "code",
   "execution_count": 197,
   "metadata": {},
   "outputs": [
    {
     "name": "stdout",
     "output_type": "stream",
     "text": [
      "The pycodestyle_magic extension is already loaded. To reload it, use:\n",
      "  %reload_ext pycodestyle_magic\n"
     ]
    }
   ],
   "source": [
    "import numpy as np\n",
    "import matplotlib.pyplot as plt\n",
    "\n",
    "import seaborn as sns\n",
    "from sklearn import datasets\n",
    "from sklearn.metrics import pairwise_distances\n",
    "from sklearn.base import ClassifierMixin\n",
    "from sklearn.datasets import fetch_mldata\n",
    "from sklearn.neighbors.base import NeighborsBase, KNeighborsMixin, SupervisedIntegerMixin \n",
    "from sklearn.model_selection import train_test_split\n",
    "from sklearn.neighbors import KNeighborsClassifier\n",
    "from sklearn.neighbors import KDTree\n",
    "%load_ext pycodestyle_magic"
   ]
  },
  {
   "cell_type": "code",
   "execution_count": 198,
   "metadata": {},
   "outputs": [],
   "source": [
    "#%%pycodestyle\n",
    "\n",
    "\n",
    "class MyKNeighborsClassifier(NeighborsBase, KNeighborsMixin,\n",
    "                             SupervisedIntegerMixin, ClassifierMixin):\n",
    "\n",
    "    def __init__(self, n_neighbors, algorithm='brute'):\n",
    "        self._n_neighbors = n_neighbors\n",
    "        self._algorithm = algorithm\n",
    "\n",
    "    def fit(self, X, y):\n",
    "        self.train_X = np.array(X, dtype='float')\n",
    "        self.train_y = np.array(y, dtype='int')\n",
    "        self.classes = np.unique(y)\n",
    "        if self._algorithm == 'kd_tree':\n",
    "            self.tree = KDTree(np.array(X))\n",
    "\n",
    "    def _dist(self, X):\n",
    "        n_dist = np.array((self.train_X ** 2).sum(axis=1))\n",
    "        n_dist_t = np.array((X ** 2).sum(axis=1).reshape(-1, 1))\n",
    "        arr_prod = np.dot(X, self.train_X.T)\n",
    "        return np.sqrt(n_dist - 2 * arr_prod + n_dist_t)\n",
    "\n",
    "    def _nearest_n(self, X):\n",
    "        X = np.array(X, dtype='float')\n",
    "        if self._algorithm == 'brute':\n",
    "            dist = self._dist(X)\n",
    "            nearest_n = np.argsort(dist, axis=1)[:, :self._n_neighbors]\n",
    "        elif self._algorithm == 'kd_tree':\n",
    "            _, nearest_n = self.tree.query(X, k=self._n_neighbors)\n",
    "        return self.train_y[nearest_n]\n",
    "\n",
    "    def predict(self, X):\n",
    "        return np.apply_along_axis(lambda x: np.bincount(x).argmax(),\n",
    "                                   1, self._nearest_n(X))\n",
    "\n",
    "    def predict_proba(self, X):\n",
    "        x = np.array(X, dtype='float')\n",
    "        nearest_n = self._nearest_n(X)\n",
    "        proba = np.zeros((X.shape[0], self.classes.shape[0]), dtype='float')\n",
    "        for col in nearest_n.T:\n",
    "            proba[range(X.shape[0]), col] += 1\n",
    "        return proba / self._n_neighbors\n",
    "\n",
    "    def score(self, X, y):\n",
    "        return np.mean(y == self.predict(X))"
   ]
  },
  {
   "cell_type": "markdown",
   "metadata": {},
   "source": [
    "**IRIS**"
   ]
  },
  {
   "cell_type": "code",
   "execution_count": 199,
   "metadata": {},
   "outputs": [],
   "source": [
    "iris = datasets.load_iris()"
   ]
  },
  {
   "cell_type": "code",
   "execution_count": 200,
   "metadata": {},
   "outputs": [],
   "source": [
    "X_train, X_test, y_train, y_test = train_test_split(iris.data, iris.target, test_size=0.1, stratify=iris.target)"
   ]
  },
  {
   "cell_type": "code",
   "execution_count": 201,
   "metadata": {},
   "outputs": [],
   "source": [
    "clf = KNeighborsClassifier(n_neighbors=2)\n",
    "my_clf = MyKNeighborsClassifier(n_neighbors=2)"
   ]
  },
  {
   "cell_type": "code",
   "execution_count": 202,
   "metadata": {},
   "outputs": [
    {
     "name": "stdout",
     "output_type": "stream",
     "text": [
      "CPU times: user 986 µs, sys: 1.37 ms, total: 2.36 ms\n",
      "Wall time: 1.78 ms\n"
     ]
    },
    {
     "data": {
      "text/plain": [
       "KNeighborsClassifier(algorithm='auto', leaf_size=30, metric='minkowski',\n",
       "           metric_params=None, n_jobs=1, n_neighbors=2, p=2,\n",
       "           weights='uniform')"
      ]
     },
     "execution_count": 202,
     "metadata": {},
     "output_type": "execute_result"
    }
   ],
   "source": [
    "%time clf.fit(X_train, y_train)"
   ]
  },
  {
   "cell_type": "code",
   "execution_count": 203,
   "metadata": {},
   "outputs": [
    {
     "name": "stdout",
     "output_type": "stream",
     "text": [
      "CPU times: user 325 µs, sys: 161 µs, total: 486 µs\n",
      "Wall time: 396 µs\n"
     ]
    }
   ],
   "source": [
    "%time my_clf.fit(X_train, y_train)"
   ]
  },
  {
   "cell_type": "code",
   "execution_count": 204,
   "metadata": {},
   "outputs": [
    {
     "name": "stdout",
     "output_type": "stream",
     "text": [
      "CPU times: user 1.64 ms, sys: 2.15 ms, total: 3.8 ms\n",
      "Wall time: 3.32 ms\n"
     ]
    },
    {
     "data": {
      "text/plain": [
       "array([1, 2, 2, 0, 0, 1, 1, 0, 1, 0, 2, 2, 0, 1, 1])"
      ]
     },
     "execution_count": 204,
     "metadata": {},
     "output_type": "execute_result"
    }
   ],
   "source": [
    "%time clf.predict(X_test)"
   ]
  },
  {
   "cell_type": "code",
   "execution_count": 205,
   "metadata": {},
   "outputs": [
    {
     "name": "stdout",
     "output_type": "stream",
     "text": [
      "CPU times: user 1.52 ms, sys: 1.79 ms, total: 3.31 ms\n",
      "Wall time: 2.12 ms\n"
     ]
    },
    {
     "data": {
      "text/plain": [
       "array([1, 2, 2, 0, 0, 1, 1, 0, 1, 0, 2, 2, 0, 1, 1])"
      ]
     },
     "execution_count": 205,
     "metadata": {},
     "output_type": "execute_result"
    }
   ],
   "source": [
    "%time my_clf.predict(X_test)"
   ]
  },
  {
   "cell_type": "code",
   "execution_count": 206,
   "metadata": {},
   "outputs": [
    {
     "name": "stdout",
     "output_type": "stream",
     "text": [
      "CPU times: user 1.38 ms, sys: 844 µs, total: 2.22 ms\n",
      "Wall time: 1.58 ms\n"
     ]
    },
    {
     "data": {
      "text/plain": [
       "array([[0. , 1. , 0. ],\n",
       "       [0. , 0. , 1. ],\n",
       "       [0. , 0. , 1. ],\n",
       "       [1. , 0. , 0. ],\n",
       "       [1. , 0. , 0. ],\n",
       "       [0. , 0.5, 0.5],\n",
       "       [0. , 1. , 0. ],\n",
       "       [1. , 0. , 0. ],\n",
       "       [0. , 0.5, 0.5],\n",
       "       [1. , 0. , 0. ],\n",
       "       [0. , 0. , 1. ],\n",
       "       [0. , 0. , 1. ],\n",
       "       [1. , 0. , 0. ],\n",
       "       [0. , 1. , 0. ],\n",
       "       [0. , 1. , 0. ]])"
      ]
     },
     "execution_count": 206,
     "metadata": {},
     "output_type": "execute_result"
    }
   ],
   "source": [
    "%time clf.predict_proba(X_test)"
   ]
  },
  {
   "cell_type": "code",
   "execution_count": 207,
   "metadata": {},
   "outputs": [
    {
     "name": "stdout",
     "output_type": "stream",
     "text": [
      "CPU times: user 1.4 ms, sys: 1.25 ms, total: 2.66 ms\n",
      "Wall time: 1.92 ms\n"
     ]
    },
    {
     "data": {
      "text/plain": [
       "array([[0. , 1. , 0. ],\n",
       "       [0. , 0. , 1. ],\n",
       "       [0. , 0. , 1. ],\n",
       "       [1. , 0. , 0. ],\n",
       "       [1. , 0. , 0. ],\n",
       "       [0. , 0.5, 0.5],\n",
       "       [0. , 1. , 0. ],\n",
       "       [1. , 0. , 0. ],\n",
       "       [0. , 0.5, 0.5],\n",
       "       [1. , 0. , 0. ],\n",
       "       [0. , 0. , 1. ],\n",
       "       [0. , 0. , 1. ],\n",
       "       [1. , 0. , 0. ],\n",
       "       [0. , 1. , 0. ],\n",
       "       [0. , 1. , 0. ]])"
      ]
     },
     "execution_count": 207,
     "metadata": {},
     "output_type": "execute_result"
    }
   ],
   "source": [
    "%time my_clf.predict_proba(X_test)"
   ]
  },
  {
   "cell_type": "code",
   "execution_count": 208,
   "metadata": {},
   "outputs": [
    {
     "data": {
      "text/plain": [
       "0.8"
      ]
     },
     "execution_count": 208,
     "metadata": {},
     "output_type": "execute_result"
    }
   ],
   "source": [
    "clf.score(X_test, y_test)"
   ]
  },
  {
   "cell_type": "code",
   "execution_count": 209,
   "metadata": {},
   "outputs": [
    {
     "data": {
      "text/plain": [
       "0.8"
      ]
     },
     "execution_count": 209,
     "metadata": {},
     "output_type": "execute_result"
    }
   ],
   "source": [
    "my_clf.score(X_test, y_test)"
   ]
  },
  {
   "cell_type": "markdown",
   "metadata": {},
   "source": [
    "Задание 3"
   ]
  },
  {
   "cell_type": "code",
   "execution_count": 210,
   "metadata": {},
   "outputs": [
    {
     "name": "stderr",
     "output_type": "stream",
     "text": [
      "/anaconda3/lib/python3.6/site-packages/ipykernel_launcher.py:22: RuntimeWarning: invalid value encountered in sqrt\n"
     ]
    },
    {
     "name": "stdout",
     "output_type": "stream",
     "text": [
      "Best score with 10 neighbors\n"
     ]
    },
    {
     "data": {
      "image/png": "[encoded data removed]",
      "text/plain": [
       "<Figure size 432x288 with 1 Axes>"
      ]
     },
     "metadata": {},
     "output_type": "display_data"
    }
   ],
   "source": [
    "#%%pycodestyle\n",
    "\n",
    "max_neighbors = 30\n",
    "count_of_tests = 100\n",
    "neigh_results = []\n",
    "for neighbors in range(1, max_neighbors + 1):\n",
    "    tests_results = []\n",
    "    for i in range(count_of_tests):\n",
    "        X_train, X_test, y_train, y_test = train_test_split(iris.data,\n",
    "                                                            iris.target,\n",
    "                                                            test_size=0.1,\n",
    "                                                            stratify=iris.target)\n",
    "        my_clf = MyKNeighborsClassifier(n_neighbors=neighbors)\n",
    "        my_clf.fit(X_train, y_train)\n",
    "        tests_results.append(my_clf.score(X_test, y_test))\n",
    "    neigh_results.append(np.mean(tests_results))\n",
    "\n",
    "best_neigh_count = np.argmax(neigh_results) + 1\n",
    "\n",
    "print(\"Best score with {} neighbors\".format(best_neigh_count))\n",
    "plt.plot(range(1, max_neighbors + 1), neigh_results, 'o-')\n",
    "plt.xlabel('number of neighbors')\n",
    "plt.ylabel('score')\n",
    "plt.show()"
   ]
  },
  {
   "cell_type": "markdown",
   "metadata": {},
   "source": [
    "**MNIST**"
   ]
  },
  {
   "cell_type": "code",
   "execution_count": 211,
   "metadata": {},
   "outputs": [],
   "source": [
    "mnist = fetch_mldata('MNIST original')"
   ]
  },
  {
   "cell_type": "code",
   "execution_count": 212,
   "metadata": {},
   "outputs": [],
   "source": [
    "X_train, X_test, y_train, y_test = train_test_split(mnist.data, mnist.target, test_size=0.01, stratify=mnist.target)"
   ]
  },
  {
   "cell_type": "code",
   "execution_count": 213,
   "metadata": {},
   "outputs": [],
   "source": [
    "clf = KNeighborsClassifier(n_neighbors=2)\n",
    "my_clf = MyKNeighborsClassifier(n_neighbors=2)"
   ]
  },
  {
   "cell_type": "code",
   "execution_count": 214,
   "metadata": {},
   "outputs": [
    {
     "name": "stdout",
     "output_type": "stream",
     "text": [
      "CPU times: user 24.3 s, sys: 440 ms, total: 24.8 s\n",
      "Wall time: 25.3 s\n"
     ]
    },
    {
     "data": {
      "text/plain": [
       "KNeighborsClassifier(algorithm='auto', leaf_size=30, metric='minkowski',\n",
       "           metric_params=None, n_jobs=1, n_neighbors=2, p=2,\n",
       "           weights='uniform')"
      ]
     },
     "execution_count": 214,
     "metadata": {},
     "output_type": "execute_result"
    }
   ],
   "source": [
    "%time clf.fit(X_train, y_train)"
   ]
  },
  {
   "cell_type": "code",
   "execution_count": 215,
   "metadata": {},
   "outputs": [
    {
     "name": "stdout",
     "output_type": "stream",
     "text": [
      "CPU times: user 125 ms, sys: 141 ms, total: 266 ms\n",
      "Wall time: 319 ms\n"
     ]
    }
   ],
   "source": [
    "%time my_clf.fit(X_train, y_train)"
   ]
  },
  {
   "cell_type": "code",
   "execution_count": 216,
   "metadata": {},
   "outputs": [
    {
     "name": "stdout",
     "output_type": "stream",
     "text": [
      "CPU times: user 58.6 s, sys: 465 ms, total: 59.1 s\n",
      "Wall time: 1min\n"
     ]
    },
    {
     "data": {
      "text/plain": [
       "array([2., 6., 0., 0., 1., 9., 7., 1., 0., 9., 5., 4., 4., 1., 2., 9., 7.,\n",
       "       3., 9., 1., 0., 4., 5., 0., 1., 7., 2., 3., 3., 0., 3., 1., 6., 9.,\n",
       "       4., 2., 6., 1., 3., 1., 4., 5., 3., 2., 7., 3., 7., 7., 3., 5., 7.,\n",
       "       6., 9., 2., 0., 1., 2., 1., 7., 2., 5., 9., 9., 6., 8., 6., 3., 9.,\n",
       "       1., 4., 6., 8., 1., 6., 4., 1., 0., 1., 0., 7., 3., 8., 8., 5., 6.,\n",
       "       2., 2., 1., 5., 9., 4., 1., 3., 6., 3., 1., 4., 7., 9., 4., 7., 9.,\n",
       "       6., 9., 0., 0., 4., 8., 3., 3., 3., 3., 1., 9., 8., 3., 1., 4., 6.,\n",
       "       5., 5., 4., 4., 0., 8., 6., 1., 1., 6., 2., 8., 6., 5., 9., 1., 5.,\n",
       "       4., 7., 7., 9., 6., 1., 3., 1., 0., 8., 5., 3., 5., 0., 5., 2., 7.,\n",
       "       1., 4., 0., 6., 4., 7., 3., 7., 5., 3., 9., 9., 0., 7., 5., 5., 9.,\n",
       "       2., 3., 7., 2., 3., 3., 8., 3., 2., 3., 9., 5., 0., 4., 8., 4., 2.,\n",
       "       6., 3., 6., 7., 5., 0., 8., 2., 4., 3., 0., 9., 5., 5., 5., 4., 4.,\n",
       "       4., 3., 2., 1., 8., 1., 9., 3., 3., 7., 7., 8., 7., 7., 2., 3., 0.,\n",
       "       5., 4., 7., 7., 4., 0., 8., 4., 3., 9., 6., 3., 7., 5., 1., 2., 5.,\n",
       "       0., 2., 6., 1., 1., 8., 6., 0., 3., 1., 4., 4., 6., 8., 4., 3., 1.,\n",
       "       0., 5., 0., 3., 6., 7., 4., 4., 7., 2., 7., 3., 3., 5., 2., 0., 5.,\n",
       "       8., 2., 1., 9., 9., 1., 6., 1., 7., 4., 6., 9., 7., 6., 9., 9., 5.,\n",
       "       8., 0., 5., 8., 7., 2., 3., 5., 0., 8., 8., 5., 3., 2., 9., 9., 1.,\n",
       "       8., 1., 7., 7., 4., 3., 2., 1., 3., 0., 6., 6., 4., 4., 6., 4., 7.,\n",
       "       5., 3., 8., 4., 7., 2., 5., 3., 3., 5., 5., 9., 0., 0., 1., 6., 8.,\n",
       "       5., 5., 5., 7., 9., 2., 1., 8., 4., 0., 1., 8., 5., 3., 9., 3., 3.,\n",
       "       2., 1., 8., 2., 1., 0., 6., 5., 0., 3., 8., 1., 0., 8., 0., 8., 4.,\n",
       "       3., 0., 2., 6., 0., 0., 0., 1., 0., 6., 2., 8., 4., 7., 6., 2., 5.,\n",
       "       9., 8., 5., 7., 1., 9., 3., 1., 3., 6., 8., 5., 3., 7., 7., 2., 5.,\n",
       "       0., 4., 2., 0., 1., 7., 6., 8., 1., 4., 9., 3., 3., 5., 1., 0., 8.,\n",
       "       7., 4., 4., 6., 1., 7., 4., 5., 2., 6., 8., 1., 3., 0., 9., 1., 1.,\n",
       "       5., 2., 9., 0., 3., 6., 0., 6., 8., 6., 8., 3., 4., 5., 2., 3., 0.,\n",
       "       5., 3., 3., 7., 2., 8., 7., 7., 0., 1., 8., 3., 0., 1., 5., 7., 9.,\n",
       "       4., 0., 2., 2., 5., 8., 9., 1., 0., 3., 8., 1., 6., 1., 8., 2., 9.,\n",
       "       2., 4., 0., 4., 6., 0., 7., 4., 0., 9., 6., 4., 9., 0., 6., 8., 0.,\n",
       "       1., 2., 9., 7., 3., 6., 6., 1., 5., 2., 9., 9., 7., 6., 7., 6., 7.,\n",
       "       6., 9., 9., 8., 6., 3., 6., 2., 2., 4., 7., 9., 8., 1., 6., 2., 9.,\n",
       "       7., 8., 3., 9., 6., 2., 2., 3., 2., 0., 4., 0., 8., 7., 9., 5., 4.,\n",
       "       3., 0., 6., 7., 8., 0., 9., 4., 4., 3., 6., 0., 4., 6., 4., 4., 4.,\n",
       "       2., 0., 8., 9., 1., 4., 0., 1., 8., 8., 2., 1., 1., 4., 1., 7., 4.,\n",
       "       1., 5., 2., 3., 6., 3., 7., 7., 4., 7., 1., 2., 8., 5., 7., 7., 0.,\n",
       "       7., 4., 8., 4., 4., 9., 9., 7., 8., 7., 0., 6., 7., 1., 8., 7., 2.,\n",
       "       2., 6., 6., 7., 2., 3., 2., 3., 9., 9., 5., 7., 9., 2., 2., 5., 6.,\n",
       "       4., 2., 6., 6., 0., 0., 1., 9., 2., 0., 5., 3., 1., 2., 8., 7., 2.,\n",
       "       0., 1., 9., 0., 1., 9., 8., 4., 9., 9., 1., 7., 5., 8., 5., 1., 9.,\n",
       "       2., 2., 6., 6., 1., 6., 4., 1., 7., 1., 3., 1., 1., 0., 8., 4., 2.,\n",
       "       6., 5., 5.])"
      ]
     },
     "execution_count": 216,
     "metadata": {},
     "output_type": "execute_result"
    }
   ],
   "source": [
    "%time clf.predict(X_test)"
   ]
  },
  {
   "cell_type": "code",
   "execution_count": 217,
   "metadata": {},
   "outputs": [
    {
     "name": "stdout",
     "output_type": "stream",
     "text": [
      "CPU times: user 7.28 s, sys: 1.67 s, total: 8.95 s\n",
      "Wall time: 7.53 s\n"
     ]
    },
    {
     "data": {
      "text/plain": [
       "array([2, 6, 0, 0, 1, 9, 7, 1, 0, 9, 5, 4, 4, 1, 2, 9, 7, 3, 9, 1, 0, 4,\n",
       "       5, 0, 1, 7, 2, 3, 3, 0, 3, 1, 6, 9, 4, 2, 6, 1, 3, 1, 4, 5, 3, 2,\n",
       "       7, 3, 7, 7, 3, 5, 7, 6, 9, 2, 0, 1, 2, 1, 7, 2, 5, 9, 9, 6, 8, 6,\n",
       "       3, 9, 1, 4, 6, 8, 1, 6, 4, 1, 0, 1, 0, 7, 3, 8, 8, 5, 6, 2, 2, 1,\n",
       "       5, 9, 4, 1, 3, 6, 3, 1, 4, 7, 9, 4, 7, 9, 6, 9, 0, 0, 4, 8, 3, 3,\n",
       "       3, 3, 1, 9, 8, 3, 1, 4, 6, 5, 5, 4, 4, 0, 8, 6, 1, 1, 6, 2, 8, 6,\n",
       "       5, 9, 1, 5, 4, 7, 7, 9, 6, 1, 3, 1, 0, 8, 5, 3, 5, 0, 5, 2, 7, 1,\n",
       "       4, 0, 6, 4, 7, 3, 7, 5, 3, 9, 9, 0, 7, 5, 5, 9, 2, 3, 7, 2, 3, 3,\n",
       "       8, 3, 2, 3, 9, 5, 0, 4, 8, 4, 2, 6, 3, 6, 7, 5, 0, 8, 2, 4, 3, 0,\n",
       "       9, 5, 5, 5, 4, 4, 4, 3, 2, 1, 8, 1, 9, 3, 3, 7, 7, 8, 7, 7, 2, 3,\n",
       "       0, 5, 4, 7, 7, 4, 0, 8, 4, 3, 9, 6, 3, 7, 5, 1, 2, 5, 0, 2, 6, 1,\n",
       "       1, 8, 6, 0, 3, 1, 4, 4, 6, 8, 4, 3, 1, 0, 5, 0, 3, 6, 7, 4, 4, 7,\n",
       "       2, 7, 3, 3, 5, 2, 0, 5, 8, 2, 1, 9, 9, 1, 6, 1, 7, 4, 6, 9, 7, 6,\n",
       "       9, 9, 5, 8, 0, 5, 8, 7, 2, 3, 5, 0, 8, 8, 5, 3, 2, 9, 9, 1, 8, 1,\n",
       "       7, 7, 4, 3, 2, 1, 3, 0, 6, 6, 4, 4, 6, 4, 7, 5, 3, 8, 4, 7, 2, 5,\n",
       "       3, 3, 5, 5, 9, 0, 0, 1, 6, 8, 5, 5, 5, 7, 9, 2, 1, 8, 4, 0, 1, 8,\n",
       "       5, 3, 9, 3, 3, 2, 1, 8, 2, 1, 0, 6, 5, 0, 3, 8, 1, 0, 8, 0, 8, 4,\n",
       "       3, 0, 2, 6, 0, 0, 0, 1, 0, 6, 2, 8, 4, 7, 6, 2, 5, 9, 8, 5, 7, 1,\n",
       "       9, 3, 1, 3, 6, 8, 5, 3, 7, 7, 2, 5, 0, 4, 2, 0, 1, 7, 6, 8, 1, 4,\n",
       "       9, 3, 3, 5, 1, 0, 8, 7, 4, 4, 6, 1, 7, 4, 5, 2, 6, 8, 1, 3, 0, 9,\n",
       "       1, 1, 5, 2, 9, 0, 3, 6, 0, 6, 8, 6, 8, 3, 4, 5, 2, 3, 0, 5, 3, 3,\n",
       "       7, 2, 8, 7, 7, 0, 1, 8, 3, 0, 1, 5, 7, 9, 4, 0, 2, 2, 5, 8, 9, 1,\n",
       "       0, 3, 8, 1, 6, 1, 8, 2, 9, 2, 4, 0, 4, 6, 0, 7, 4, 0, 9, 6, 4, 9,\n",
       "       0, 6, 8, 0, 1, 2, 9, 7, 3, 6, 6, 1, 5, 2, 9, 9, 7, 6, 7, 6, 7, 6,\n",
       "       9, 9, 8, 6, 3, 6, 2, 2, 4, 7, 9, 8, 1, 6, 2, 9, 7, 8, 3, 9, 6, 2,\n",
       "       2, 3, 2, 0, 4, 0, 8, 7, 9, 5, 4, 3, 0, 6, 7, 8, 0, 9, 4, 4, 3, 6,\n",
       "       0, 4, 6, 4, 4, 4, 2, 0, 8, 9, 1, 4, 0, 1, 8, 8, 2, 1, 1, 4, 1, 7,\n",
       "       4, 1, 5, 2, 3, 6, 3, 7, 7, 4, 7, 1, 2, 8, 5, 7, 7, 0, 7, 4, 8, 4,\n",
       "       4, 9, 9, 7, 8, 7, 0, 6, 7, 1, 8, 7, 2, 2, 6, 6, 7, 2, 3, 2, 3, 9,\n",
       "       9, 5, 7, 9, 2, 2, 5, 6, 4, 2, 6, 6, 0, 0, 1, 9, 2, 0, 5, 3, 1, 2,\n",
       "       8, 7, 2, 0, 1, 9, 0, 1, 9, 8, 4, 9, 9, 1, 7, 5, 8, 5, 1, 9, 2, 2,\n",
       "       6, 6, 1, 6, 4, 1, 7, 1, 3, 1, 1, 0, 8, 4, 2, 6, 5, 5])"
      ]
     },
     "execution_count": 217,
     "metadata": {},
     "output_type": "execute_result"
    }
   ],
   "source": [
    "%time my_clf.predict(X_test)"
   ]
  },
  {
   "cell_type": "code",
   "execution_count": 218,
   "metadata": {},
   "outputs": [
    {
     "name": "stdout",
     "output_type": "stream",
     "text": [
      "CPU times: user 58.7 s, sys: 440 ms, total: 59.2 s\n",
      "Wall time: 59.9 s\n"
     ]
    },
    {
     "data": {
      "text/plain": [
       "array([[0., 0., 1., ..., 0., 0., 0.],\n",
       "       [0., 0., 0., ..., 0., 0., 0.],\n",
       "       [1., 0., 0., ..., 0., 0., 0.],\n",
       "       ...,\n",
       "       [0., 0., 0., ..., 0., 0., 0.],\n",
       "       [0., 0., 0., ..., 0., 0., 0.],\n",
       "       [0., 0., 0., ..., 0., 0., 0.]])"
      ]
     },
     "execution_count": 218,
     "metadata": {},
     "output_type": "execute_result"
    }
   ],
   "source": [
    "%time clf.predict_proba(X_test)"
   ]
  },
  {
   "cell_type": "code",
   "execution_count": 219,
   "metadata": {},
   "outputs": [
    {
     "name": "stdout",
     "output_type": "stream",
     "text": [
      "CPU times: user 6.83 s, sys: 1.46 s, total: 8.29 s\n",
      "Wall time: 6.83 s\n"
     ]
    },
    {
     "data": {
      "text/plain": [
       "array([[0., 0., 1., ..., 0., 0., 0.],\n",
       "       [0., 0., 0., ..., 0., 0., 0.],\n",
       "       [1., 0., 0., ..., 0., 0., 0.],\n",
       "       ...,\n",
       "       [0., 0., 0., ..., 0., 0., 0.],\n",
       "       [0., 0., 0., ..., 0., 0., 0.],\n",
       "       [0., 0., 0., ..., 0., 0., 0.]])"
      ]
     },
     "execution_count": 219,
     "metadata": {},
     "output_type": "execute_result"
    }
   ],
   "source": [
    "%time my_clf.predict_proba(X_test)"
   ]
  },
  {
   "cell_type": "code",
   "execution_count": 220,
   "metadata": {},
   "outputs": [
    {
     "data": {
      "text/plain": [
       "0.9742857142857143"
      ]
     },
     "execution_count": 220,
     "metadata": {},
     "output_type": "execute_result"
    }
   ],
   "source": [
    "clf.score(X_test, y_test)"
   ]
  },
  {
   "cell_type": "code",
   "execution_count": 221,
   "metadata": {},
   "outputs": [
    {
     "data": {
      "text/plain": [
       "0.9742857142857143"
      ]
     },
     "execution_count": 221,
     "metadata": {},
     "output_type": "execute_result"
    }
   ],
   "source": [
    "my_clf.score(X_test, y_test)"
   ]
  },
  {
   "cell_type": "markdown",
   "metadata": {},
   "source": [
    "Задание 4"
   ]
  },
  {
   "cell_type": "code",
   "execution_count": 222,
   "metadata": {},
   "outputs": [],
   "source": [
    "clf = KNeighborsClassifier(n_neighbors=2, algorithm='kd_tree')\n",
    "my_clf = MyKNeighborsClassifier(n_neighbors=2, algorithm='kd_tree')"
   ]
  },
  {
   "cell_type": "code",
   "execution_count": 223,
   "metadata": {},
   "outputs": [],
   "source": [
    "X_train, X_test, y_train, y_test = train_test_split(mnist.data, mnist.target, test_size=0.01, stratify=mnist.target)"
   ]
  },
  {
   "cell_type": "code",
   "execution_count": 224,
   "metadata": {},
   "outputs": [
    {
     "name": "stdout",
     "output_type": "stream",
     "text": [
      "CPU times: user 23.1 s, sys: 289 ms, total: 23.4 s\n",
      "Wall time: 23.5 s\n"
     ]
    },
    {
     "data": {
      "text/plain": [
       "KNeighborsClassifier(algorithm='kd_tree', leaf_size=30, metric='minkowski',\n",
       "           metric_params=None, n_jobs=1, n_neighbors=2, p=2,\n",
       "           weights='uniform')"
      ]
     },
     "execution_count": 224,
     "metadata": {},
     "output_type": "execute_result"
    }
   ],
   "source": [
    "%time clf.fit(X_train, y_train)"
   ]
  },
  {
   "cell_type": "code",
   "execution_count": 225,
   "metadata": {},
   "outputs": [
    {
     "name": "stdout",
     "output_type": "stream",
     "text": [
      "CPU times: user 23.2 s, sys: 417 ms, total: 23.6 s\n",
      "Wall time: 23.6 s\n"
     ]
    }
   ],
   "source": [
    "%time my_clf.fit(X_train, y_train)"
   ]
  },
  {
   "cell_type": "code",
   "execution_count": 226,
   "metadata": {},
   "outputs": [
    {
     "name": "stdout",
     "output_type": "stream",
     "text": [
      "CPU times: user 57.7 s, sys: 277 ms, total: 58 s\n",
      "Wall time: 58.5 s\n"
     ]
    },
    {
     "data": {
      "text/plain": [
       "array([2., 1., 6., 4., 6., 2., 0., 0., 1., 9., 1., 1., 6., 4., 4., 3., 6.,\n",
       "       9., 6., 0., 2., 3., 6., 0., 0., 4., 1., 0., 9., 2., 3., 0., 0., 7.,\n",
       "       6., 9., 6., 4., 5., 4., 8., 7., 1., 7., 3., 8., 5., 1., 6., 1., 9.,\n",
       "       7., 9., 8., 1., 6., 8., 7., 3., 4., 1., 7., 6., 0., 0., 7., 7., 1.,\n",
       "       1., 6., 6., 1., 2., 9., 6., 9., 4., 4., 2., 0., 9., 3., 4., 2., 4.,\n",
       "       4., 2., 0., 7., 0., 0., 7., 6., 7., 9., 8., 3., 3., 6., 1., 7., 4.,\n",
       "       7., 2., 4., 4., 0., 6., 1., 5., 4., 9., 2., 5., 2., 5., 1., 2., 6.,\n",
       "       0., 4., 1., 1., 5., 3., 5., 3., 1., 1., 3., 9., 1., 4., 0., 9., 2.,\n",
       "       9., 8., 1., 2., 7., 1., 5., 9., 0., 4., 8., 6., 8., 1., 5., 9., 4.,\n",
       "       7., 4., 8., 7., 9., 5., 3., 5., 3., 2., 8., 0., 5., 9., 6., 3., 9.,\n",
       "       1., 0., 1., 2., 5., 5., 3., 4., 5., 2., 7., 5., 2., 9., 7., 1., 4.,\n",
       "       5., 9., 4., 2., 9., 7., 0., 6., 4., 4., 0., 6., 4., 1., 9., 4., 0.,\n",
       "       4., 9., 1., 8., 0., 4., 2., 0., 2., 3., 6., 1., 1., 8., 3., 4., 7.,\n",
       "       2., 3., 7., 8., 1., 6., 2., 2., 9., 1., 9., 8., 3., 8., 9., 7., 7.,\n",
       "       7., 2., 1., 6., 9., 0., 6., 1., 7., 3., 2., 4., 7., 0., 8., 1., 8.,\n",
       "       5., 3., 2., 0., 7., 0., 6., 9., 7., 2., 6., 2., 8., 7., 7., 0., 6.,\n",
       "       3., 5., 1., 4., 8., 3., 8., 7., 2., 5., 0., 5., 3., 6., 9., 0., 6.,\n",
       "       3., 9., 6., 3., 1., 3., 4., 9., 5., 6., 1., 3., 0., 3., 5., 8., 9.,\n",
       "       0., 4., 0., 2., 8., 4., 1., 5., 1., 7., 5., 0., 1., 5., 6., 5., 1.,\n",
       "       9., 0., 0., 8., 3., 0., 2., 6., 2., 6., 6., 9., 7., 4., 9., 1., 9.,\n",
       "       1., 3., 7., 3., 3., 1., 4., 2., 1., 2., 0., 8., 1., 3., 8., 1., 8.,\n",
       "       0., 6., 4., 4., 1., 5., 0., 1., 5., 2., 9., 1., 0., 0., 0., 8., 6.,\n",
       "       4., 8., 5., 7., 1., 8., 5., 2., 9., 0., 8., 0., 1., 8., 1., 5., 9.,\n",
       "       7., 3., 3., 3., 9., 4., 9., 0., 2., 3., 2., 3., 8., 7., 1., 7., 9.,\n",
       "       9., 1., 3., 8., 8., 5., 7., 9., 8., 5., 9., 4., 8., 0., 2., 4., 0.,\n",
       "       6., 7., 4., 9., 2., 9., 7., 2., 0., 7., 6., 8., 9., 4., 3., 6., 1.,\n",
       "       6., 5., 0., 7., 8., 7., 1., 6., 7., 8., 8., 0., 7., 1., 1., 3., 0.,\n",
       "       6., 0., 1., 5., 0., 2., 8., 1., 4., 2., 0., 3., 1., 5., 3., 3., 3.,\n",
       "       9., 9., 3., 3., 3., 0., 5., 6., 9., 6., 6., 5., 4., 3., 9., 3., 4.,\n",
       "       8., 6., 3., 5., 1., 7., 5., 3., 3., 8., 7., 3., 2., 9., 4., 8., 7.,\n",
       "       8., 7., 8., 1., 2., 6., 8., 6., 7., 1., 1., 4., 9., 0., 5., 2., 5.,\n",
       "       3., 3., 5., 8., 8., 7., 5., 7., 5., 0., 5., 5., 3., 4., 6., 4., 3.,\n",
       "       5., 3., 7., 7., 2., 7., 7., 5., 3., 3., 2., 2., 1., 5., 2., 4., 4.,\n",
       "       8., 8., 3., 2., 1., 5., 1., 1., 1., 9., 4., 8., 0., 4., 3., 9., 5.,\n",
       "       1., 2., 1., 6., 6., 1., 3., 8., 7., 6., 5., 3., 6., 5., 8., 8., 0.,\n",
       "       8., 2., 6., 7., 2., 1., 5., 6., 1., 2., 0., 4., 1., 6., 2., 6., 7.,\n",
       "       4., 4., 0., 7., 8., 5., 4., 0., 9., 2., 1., 7., 4., 6., 3., 9., 6.,\n",
       "       9., 1., 7., 5., 3., 3., 7., 0., 4., 6., 2., 5., 8., 3., 0., 2., 1.,\n",
       "       8., 5., 7., 4., 1., 6., 7., 0., 0., 5., 9., 7., 9., 5., 8., 2., 8.,\n",
       "       0., 6., 3., 1., 3., 4., 6., 2., 9., 2., 5., 4., 5., 3., 8., 6., 8.,\n",
       "       5., 9., 3., 4., 3., 7., 2., 9., 2., 2., 2., 2., 7., 9., 4., 0., 2.,\n",
       "       7., 3., 6.])"
      ]
     },
     "execution_count": 226,
     "metadata": {},
     "output_type": "execute_result"
    }
   ],
   "source": [
    "%time clf.predict(X_test)"
   ]
  },
  {
   "cell_type": "code",
   "execution_count": 227,
   "metadata": {},
   "outputs": [
    {
     "name": "stdout",
     "output_type": "stream",
     "text": [
      "CPU times: user 50.5 s, sys: 245 ms, total: 50.8 s\n",
      "Wall time: 51.1 s\n"
     ]
    },
    {
     "data": {
      "text/plain": [
       "array([2, 1, 6, 4, 6, 2, 0, 0, 1, 9, 1, 1, 6, 4, 4, 3, 6, 9, 6, 0, 2, 3,\n",
       "       6, 0, 0, 4, 1, 0, 9, 2, 3, 0, 0, 7, 6, 9, 6, 4, 5, 4, 8, 7, 1, 7,\n",
       "       3, 8, 5, 1, 6, 1, 9, 7, 9, 8, 1, 6, 8, 7, 3, 4, 1, 7, 6, 0, 0, 7,\n",
       "       7, 1, 1, 6, 6, 1, 2, 9, 6, 9, 4, 4, 2, 0, 9, 3, 4, 2, 4, 4, 2, 0,\n",
       "       7, 0, 0, 7, 6, 7, 9, 8, 3, 3, 6, 1, 7, 4, 7, 2, 4, 4, 0, 6, 1, 5,\n",
       "       4, 9, 2, 5, 2, 5, 1, 2, 6, 0, 4, 1, 1, 5, 3, 5, 3, 1, 1, 3, 9, 1,\n",
       "       4, 0, 9, 2, 9, 8, 1, 2, 7, 1, 5, 9, 0, 4, 8, 6, 8, 1, 5, 9, 4, 7,\n",
       "       4, 8, 7, 9, 5, 3, 5, 3, 2, 8, 0, 5, 9, 6, 3, 9, 1, 0, 1, 2, 5, 5,\n",
       "       3, 4, 5, 2, 7, 5, 2, 9, 7, 1, 4, 5, 9, 4, 2, 9, 7, 0, 6, 4, 4, 0,\n",
       "       6, 4, 1, 9, 4, 0, 4, 9, 1, 8, 0, 4, 2, 0, 2, 3, 6, 1, 1, 8, 3, 4,\n",
       "       7, 2, 3, 7, 8, 1, 6, 2, 2, 9, 1, 9, 8, 3, 8, 9, 7, 7, 7, 2, 1, 6,\n",
       "       9, 0, 6, 1, 7, 3, 2, 4, 7, 0, 8, 1, 8, 5, 3, 2, 0, 7, 0, 6, 9, 7,\n",
       "       2, 6, 2, 8, 7, 7, 0, 6, 3, 5, 1, 4, 8, 3, 8, 7, 2, 5, 0, 5, 3, 6,\n",
       "       9, 0, 6, 3, 9, 6, 3, 1, 3, 4, 9, 5, 6, 1, 3, 0, 3, 5, 8, 9, 0, 4,\n",
       "       0, 2, 8, 4, 1, 5, 1, 7, 5, 0, 1, 5, 6, 5, 1, 9, 0, 0, 8, 3, 0, 2,\n",
       "       6, 2, 6, 6, 9, 7, 4, 9, 1, 9, 1, 3, 7, 3, 3, 1, 4, 2, 1, 2, 0, 8,\n",
       "       1, 3, 8, 1, 8, 0, 6, 4, 4, 1, 5, 0, 1, 5, 2, 9, 1, 0, 0, 0, 8, 6,\n",
       "       4, 8, 5, 7, 1, 8, 5, 2, 9, 0, 8, 0, 1, 8, 1, 5, 9, 7, 3, 3, 3, 9,\n",
       "       4, 9, 0, 2, 3, 2, 3, 8, 7, 1, 7, 9, 9, 1, 3, 8, 8, 5, 7, 9, 8, 5,\n",
       "       9, 4, 8, 0, 2, 4, 0, 6, 7, 4, 9, 2, 9, 7, 2, 0, 7, 6, 8, 9, 4, 3,\n",
       "       6, 1, 6, 5, 0, 7, 8, 7, 1, 6, 7, 8, 8, 0, 7, 1, 1, 3, 0, 6, 0, 1,\n",
       "       5, 0, 2, 8, 1, 4, 2, 0, 3, 1, 5, 3, 3, 3, 9, 9, 3, 3, 3, 0, 5, 6,\n",
       "       9, 6, 6, 5, 4, 3, 9, 3, 4, 8, 6, 3, 5, 1, 7, 5, 3, 3, 8, 7, 3, 2,\n",
       "       9, 4, 8, 7, 8, 7, 8, 1, 2, 6, 8, 6, 7, 1, 1, 4, 9, 0, 5, 2, 5, 3,\n",
       "       3, 5, 8, 8, 7, 5, 7, 5, 0, 5, 5, 3, 4, 6, 4, 3, 5, 3, 7, 7, 2, 7,\n",
       "       7, 5, 3, 3, 2, 2, 1, 5, 2, 4, 4, 8, 8, 3, 2, 1, 5, 1, 1, 1, 9, 4,\n",
       "       8, 0, 4, 3, 9, 5, 1, 2, 1, 6, 6, 1, 3, 8, 7, 6, 5, 3, 6, 5, 8, 8,\n",
       "       0, 8, 2, 6, 7, 2, 1, 5, 6, 1, 2, 0, 4, 1, 6, 2, 6, 7, 4, 4, 0, 7,\n",
       "       8, 5, 4, 0, 9, 2, 1, 7, 4, 6, 3, 9, 6, 9, 1, 7, 5, 3, 3, 7, 0, 4,\n",
       "       6, 2, 5, 8, 3, 0, 2, 1, 8, 5, 7, 4, 1, 6, 7, 0, 0, 5, 9, 7, 9, 5,\n",
       "       8, 2, 8, 0, 6, 3, 1, 3, 4, 6, 2, 9, 2, 5, 4, 5, 3, 8, 6, 8, 5, 9,\n",
       "       3, 4, 3, 7, 2, 9, 2, 2, 2, 2, 7, 9, 4, 0, 2, 7, 3, 6])"
      ]
     },
     "execution_count": 227,
     "metadata": {},
     "output_type": "execute_result"
    }
   ],
   "source": [
    "%time my_clf.predict(X_test)"
   ]
  },
  {
   "cell_type": "code",
   "execution_count": 228,
   "metadata": {},
   "outputs": [
    {
     "name": "stdout",
     "output_type": "stream",
     "text": [
      "CPU times: user 57.7 s, sys: 285 ms, total: 58 s\n",
      "Wall time: 58.5 s\n"
     ]
    },
    {
     "data": {
      "text/plain": [
       "array([[0., 0., 1., ..., 0., 0., 0.],\n",
       "       [0., 1., 0., ..., 0., 0., 0.],\n",
       "       [0., 0., 0., ..., 0., 0., 0.],\n",
       "       ...,\n",
       "       [0., 0., 0., ..., 1., 0., 0.],\n",
       "       [0., 0., 0., ..., 0., 0., 0.],\n",
       "       [0., 0., 0., ..., 0., 0., 0.]])"
      ]
     },
     "execution_count": 228,
     "metadata": {},
     "output_type": "execute_result"
    }
   ],
   "source": [
    "%time clf.predict_proba(X_test)"
   ]
  },
  {
   "cell_type": "code",
   "execution_count": 229,
   "metadata": {},
   "outputs": [
    {
     "name": "stdout",
     "output_type": "stream",
     "text": [
      "CPU times: user 51.8 s, sys: 348 ms, total: 52.1 s\n",
      "Wall time: 52.8 s\n"
     ]
    },
    {
     "data": {
      "text/plain": [
       "array([[0., 0., 1., ..., 0., 0., 0.],\n",
       "       [0., 1., 0., ..., 0., 0., 0.],\n",
       "       [0., 0., 0., ..., 0., 0., 0.],\n",
       "       ...,\n",
       "       [0., 0., 0., ..., 1., 0., 0.],\n",
       "       [0., 0., 0., ..., 0., 0., 0.],\n",
       "       [0., 0., 0., ..., 0., 0., 0.]])"
      ]
     },
     "execution_count": 229,
     "metadata": {},
     "output_type": "execute_result"
    }
   ],
   "source": [
    "%time my_clf.predict_proba(X_test)"
   ]
  },
  {
   "cell_type": "code",
   "execution_count": 230,
   "metadata": {},
   "outputs": [
    {
     "data": {
      "text/plain": [
       "0.9671428571428572"
      ]
     },
     "execution_count": 230,
     "metadata": {},
     "output_type": "execute_result"
    }
   ],
   "source": [
    "clf.score(X_test, y_test)"
   ]
  },
  {
   "cell_type": "code",
   "execution_count": 231,
   "metadata": {},
   "outputs": [
    {
     "data": {
      "text/plain": [
       "0.9671428571428572"
      ]
     },
     "execution_count": 231,
     "metadata": {},
     "output_type": "execute_result"
    }
   ],
   "source": [
    "my_clf.score(X_test, y_test)"
   ]
  },
  {
   "cell_type": "markdown",
   "metadata": {},
   "source": [
    "Задание 5"
   ]
  },
  {
   "cell_type": "code",
   "execution_count": null,
   "metadata": {},
   "outputs": [],
   "source": [
    "# seaborn - Библиотека для визуализации данных, основанная на matplotlib\n",
    "# matplotlib - Библиотека для построения графиков\n",
    "# train_test_split - Функция библиотеки sklearn, разбивающая выборку на две случайные: тренировочную и тестирующую. \n",
    "# Pipelin%load_ext e (from sklearn.pipeline import Pipeline) - Функция для последовательного преобразования данных (конвеер)\n",
    "# StandardScaler (from sklearn.preprocessing import StandardScaler) - Класс для стандартизации данных (мат. ожидание - 0, дисперсия - 1)\n",
    "# ClassifierMixin - Базовый класс для всех классификаторов в библиоткек sklearn\n",
    "# NeighborsBase - Базовый класс для классификатора KNN из sklearn\n",
    "# KNeighborsMixin - Базовый класс для классификатора KNN, содержащий методы поиска\n",
    "# SupervisedIntegerMixin - Класс, содержащий метод обучения для целых целевых меток fit"
   ]
  }
 ],
 "metadata": {
  "kernelspec": {
   "display_name": "Python 3",
   "language": "python",
   "name": "python3"
  },
  "language_info": {
   "codemirror_mode": {
    "name": "ipython",
    "version": 3
   },
   "file_extension": ".py",
   "mimetype": "text/x-python",
   "name": "python",
   "nbconvert_exporter": "python",
   "pygments_lexer": "ipython3",
   "version": "3.6.5"
  }
 },
 "nbformat": 4,
 "nbformat_minor": 2
}
